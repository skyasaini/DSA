{
 "cells": [
  {
   "cell_type": "markdown",
   "id": "1814c628",
   "metadata": {},
   "source": [
    "## Class1-Array"
   ]
  },
  {
   "cell_type": "markdown",
   "id": "f9ed4f56",
   "metadata": {},
   "source": [
    "#### Q1. Given an array of size N. The task is to find the maximum and the minimum element of the array using the minimum number of comparisons.\n",
    "\n",
    "#### Examples:\n",
    "\n",
    "#### Input: arr[] = {3, 5, 4, 1, 9}\n",
    "\n",
    "#### Output: Minimum element is: 1\n",
    "\n",
    "#### Maximum element is: 9\n"
   ]
  },
  {
   "cell_type": "code",
   "execution_count": 1,
   "id": "cb534841",
   "metadata": {},
   "outputs": [
    {
     "name": "stdout",
     "output_type": "stream",
     "text": [
      "Minimum element is 1\n",
      "Maximum element is 3000\n"
     ]
    }
   ],
   "source": [
    "# Python program of above implementation\n",
    " \n",
    "# structure is used to return two values from minMax()\n",
    " \n",
    "class pair:\n",
    "    def __init__(self):\n",
    "\t\tself.min = 0\n",
    "\t\tself.max = 0\n",
    " \n",
    "def getMinMax(arr: list, n: int) -> pair:\n",
    "\tminmax = pair()\n",
    " \n",
    "\t# If there is only one element then return it as min and max both\n",
    "\tif n == 1:\n",
    "\t\tminmax.max = arr[0]\n",
    "\t\tminmax.min = arr[0]\n",
    "\t\treturn minmax\n",
    " \n",
    "\t# If there are more than one elements, then initialize min\n",
    "\t# and max\n",
    "\tif arr[0] > arr[1]:\n",
    "\t\tminmax.max = arr[0]\n",
    "\t\tminmax.min = arr[1]\n",
    "\telse:\n",
    "\t\tminmax.max = arr[1]\n",
    "\t\tminmax.min = arr[0]\n",
    " \n",
    "\tfor i in range(2, n):\n",
    "\t\tif arr[i] > minmax.max:\n",
    "\t\t\tminmax.max = arr[i]\n",
    "\t\telif arr[i] < minmax.min:\n",
    "\t\t\tminmax.min = arr[i]\n",
    " \n",
    "\treturn minmax\n",
    " \n",
    "# Driver Code\n",
    "if __name__ == \"__main__\":\n",
    "\tarr = [1000, 11, 445, 1, 330, 3000]\n",
    "\tarr_size = 6\n",
    "\tminmax = getMinMax(arr, arr_size)\n",
    "\tprint(\"Minimum element is\", minmax.min)\n",
    "\tprint(\"Maximum element is\", minmax.max)"
   ]
  },
  {
   "cell_type": "markdown",
   "id": "5eb47e1f",
   "metadata": {},
   "source": [
    "#### Q2. You are given an array prices where prices[i] is the price of a given stock on the ith day.\n",
    "\n",
    "#### You want to maximize your profit by choosing a single day to buy one stock and choosing a different day in the future to sell that stock.\n",
    "\n",
    "#### Return the maximum profit you can achieve from this transaction. If you cannot achieve any profit, return 0.\n",
    "\n",
    "#### Example:\n",
    "\n",
    "#### Input: prices = [7,1,5,3,6,4]\n",
    "\n",
    "#### Output: 5\n",
    "\n",
    "#### Explanation: Buy on day 2 (price = 1) and sell on day 5 (price = 6), profit = 6-1 = 5.\n",
    "\n",
    "#### Note that buying on day 2 and selling on day 1 is not allowed because you must buy before you sell.\n"
   ]
  },
  {
   "cell_type": "code",
   "execution_count": 13,
   "id": "305ba251",
   "metadata": {},
   "outputs": [
    {
     "data": {
      "text/plain": [
       "5"
      ]
     },
     "execution_count": 13,
     "metadata": {},
     "output_type": "execute_result"
    }
   ],
   "source": [
    "def maxPro(prices):\n",
    "    min_price = prices[0]\n",
    "    max_profit = 0\n",
    "    for i in range(1,len(prices)):\n",
    "        if prices[i] < min_price:\n",
    "            min_price = prices[i]\n",
    "        elif prices[i] - min_price > max_profit:\n",
    "            max_profit = prices[i] - min_price\n",
    "\n",
    "    return max_profit\n",
    "l1 = [7,1,5,3,6,4]\n",
    "maxPro(l1)"
   ]
  },
  {
   "cell_type": "markdown",
   "id": "82f8d38c",
   "metadata": {},
   "source": [
    "#### Q3.Given an integer array nums, find a subarray that has the largest product, and return the product.\n",
    "\n",
    "#### The test cases are generated so that the answer will fit in a 32-bit integer.\n",
    "\n",
    "Example:\n",
    "\n",
    "Input: nums = [2,3,-2,4]\n",
    "\n",
    "Output: 6\n",
    "\n",
    "#### Explanation: [2,3] has the largest product 6.\n"
   ]
  },
  {
   "cell_type": "code",
   "execution_count": 14,
   "id": "5f346c71",
   "metadata": {},
   "outputs": [],
   "source": [
    "def maxProduct(nums):\n",
    "    if len(nums) == 0:\n",
    "        return 0\n",
    "\n",
    "    max_so_far = nums[0]\n",
    "    min_so_far = nums[0]\n",
    "    result = max_so_far\n",
    "\n",
    "    for i in range(1, len(nums)):\n",
    "        curr = nums[i]\n",
    "        temp_max = max(curr, max_so_far * curr, min_so_far * curr)\n",
    "        min_so_far = min(curr, max_so_far * curr, min_so_far * curr)\n",
    "\n",
    "        max_so_far = temp_max\n",
    "\n",
    "        result = max(max_so_far, result)\n",
    "\n",
    "    return result"
   ]
  },
  {
   "cell_type": "code",
   "execution_count": 15,
   "id": "cdece8a5",
   "metadata": {},
   "outputs": [
    {
     "data": {
      "text/plain": [
       "6"
      ]
     },
     "execution_count": 15,
     "metadata": {},
     "output_type": "execute_result"
    }
   ],
   "source": [
    "nums= [2,3,-2,4]\n",
    "maxProduct(nums)"
   ]
  },
  {
   "cell_type": "markdown",
   "id": "4f214e0d",
   "metadata": {},
   "source": [
    "#### Q4. Given an integer array nums, return all the triplets [nums[i], nums[j], nums[k]] such that i != j, i != k, and j != k, \n",
    "#### and nums[i] + nums[j] + nums[k] == 0.\n",
    "\n",
    "#### Notice that the solution set must not contain duplicate triplets.\n",
    "\n",
    "**Example:**\n",
    "\n",
    "Input: nums = [-1,0,1,2,-1,-4]\n",
    "\n",
    "Output: [[-1,-1,2],[-1,0,1]]\n",
    "\n",
    "#### Explanation:\n",
    "\n",
    "nums[0] + nums[1] + nums[2] = (-1) + 0 + 1 = 0.\n",
    "\n",
    "nums[1] + nums[2] + nums[4] = 0 + 1 + (-1) = 0.\n",
    "\n",
    "nums[0] + nums[3] + nums[4] = (-1) + 2 + (-1) = 0.\n",
    "\n",
    "The distinct triplets are [-1,0,1] and [-1,-1,2].\n",
    "\n",
    "#### Notice that the order of the output and the order of the triplets does not matter."
   ]
  },
  {
   "cell_type": "code",
   "execution_count": 19,
   "id": "74d61b9c",
   "metadata": {},
   "outputs": [],
   "source": [
    "def threesum(nums):\n",
    "    res = []\n",
    "    nums.sort()\n",
    "    for i in range(len(nums)):\n",
    "        if nums[i]>0:\n",
    "            break\n",
    "        if i == 0 or nums[i-1]!=nums[i]:\n",
    "            twosum(nums,i,res)\n",
    "    return res\n",
    "def twosum(nums,i,res):\n",
    "    lo,hi = i+1,len(nums)-1\n",
    "    while(lo<hi):\n",
    "        sum = nums[i]+nums[lo]+nums[hi]\n",
    "        if sum < 0:\n",
    "            lo+=1\n",
    "        elif sum > 0:\n",
    "            hi-=1\n",
    "        else:\n",
    "            res.append([nums[i],nums[lo],nums[hi]])\n",
    "            lo += 1\n",
    "            hi -= 1\n",
    "            while lo < hi and nums[lo] == nums[lo-1]:\n",
    "                lo += 1"
   ]
  },
  {
   "cell_type": "code",
   "execution_count": 20,
   "id": "bb528d6b",
   "metadata": {},
   "outputs": [
    {
     "data": {
      "text/plain": [
       "[[-1, -1, 2], [-1, 0, 1]]"
      ]
     },
     "execution_count": 20,
     "metadata": {},
     "output_type": "execute_result"
    }
   ],
   "source": [
    "nums = [-1,0,1,2,-1,-4]\n",
    "threesum(nums)"
   ]
  },
  {
   "cell_type": "markdown",
   "id": "bcd22a4f",
   "metadata": {},
   "source": [
    "#### Q5.Given an integer array nums and an integer k, return the kth largest element in the array. Note that it is the kth largest element in the sorted order, not the kth distinct element.\n",
    "\n",
    "#### Example 1:\n",
    "\n",
    "Input: nums = [3,2,1,5,6,4], k = 2\n",
    "\n",
    "Output: 5\n"
   ]
  },
  {
   "cell_type": "code",
   "execution_count": 26,
   "id": "a1df4638",
   "metadata": {},
   "outputs": [],
   "source": [
    "def findKthlargest(nums,k):\n",
    "    nums.sort(reverse = True)\n",
    "    return nums[k-1]"
   ]
  },
  {
   "cell_type": "code",
   "execution_count": 27,
   "id": "7c64cba4",
   "metadata": {},
   "outputs": [
    {
     "data": {
      "text/plain": [
       "5"
      ]
     },
     "execution_count": 27,
     "metadata": {},
     "output_type": "execute_result"
    }
   ],
   "source": [
    "nums = [3,2,1,5,6,4]\n",
    "findKthlargest(nums,2)"
   ]
  },
  {
   "cell_type": "markdown",
   "id": "0e54a873",
   "metadata": {},
   "source": [
    "#### Q6.Given an integer array nums and an integer k, return the kth smallest element in the array. Note that it is the kth smallest element in the sorted order, not the kth distinct element.\n",
    "\n",
    "#### Example 1:\n",
    "\n",
    "Input: nums = [3,2,1,5,6,4], k = 2\n",
    "\n",
    "Output: 2"
   ]
  },
  {
   "cell_type": "code",
   "execution_count": 28,
   "id": "10314a87",
   "metadata": {},
   "outputs": [],
   "source": [
    "def findKthsmallest(nums,k):\n",
    "    nums.sort()\n",
    "    return nums[k-1]"
   ]
  },
  {
   "cell_type": "code",
   "execution_count": 29,
   "id": "89945023",
   "metadata": {},
   "outputs": [
    {
     "data": {
      "text/plain": [
       "2"
      ]
     },
     "execution_count": 29,
     "metadata": {},
     "output_type": "execute_result"
    }
   ],
   "source": [
    "nums = [3,2,1,5,6,4]\n",
    "findKthsmallest(nums,2)"
   ]
  },
  {
   "cell_type": "markdown",
   "id": "a1a96662",
   "metadata": {},
   "source": [
    "## Class2-Array"
   ]
  },
  {
   "cell_type": "markdown",
   "id": "2d5d1d0a",
   "metadata": {},
   "source": [
    "### Question 1\n",
    "#### Given an array nums containing n distinct numbers in the range [0, n], return the\n",
    "#### only number in the range that is missing from the array.\n",
    "Example 1:\n",
    "\n",
    "Input: nums = [3,0,1]\n",
    "\n",
    "Output: 2\n",
    "\n",
    "Explanation: n = 3 since there are 3 numbers, so all numbers are in the range\n",
    "\n",
    "[0,3]. 2 is the missing number in the range since it does not appear in nums."
   ]
  },
  {
   "cell_type": "code",
   "execution_count": 31,
   "id": "11f0f0b6",
   "metadata": {},
   "outputs": [],
   "source": [
    "def missingNumber(nums):\n",
    "    numSet = set(nums)\n",
    "    expectedNumCount = len(nums) + 1\n",
    "    for number in range(expectedNumCount):\n",
    "        if number not in numSet:\n",
    "            return number"
   ]
  },
  {
   "cell_type": "code",
   "execution_count": 32,
   "id": "d9254c82",
   "metadata": {},
   "outputs": [
    {
     "data": {
      "text/plain": [
       "7"
      ]
     },
     "execution_count": 32,
     "metadata": {},
     "output_type": "execute_result"
    }
   ],
   "source": [
    "nums = [3,0,1,4,5,6,2,8]\n",
    "missingNumber(nums)"
   ]
  },
  {
   "cell_type": "markdown",
   "id": "b4fa8ad5",
   "metadata": {},
   "source": [
    "### Question 2\n",
    "#### Given an array of intervals where intervals[i] = [starti, endi], merge all overlapping\n",
    "#### intervals, and return an array of the non-overlapping intervals that cover all the\n",
    "#### intervals in the input.\n",
    "\n",
    "##### Example 1:\n",
    "Input: intervals = [[1,3],[2,6],[8,10],[15,18]]\n",
    "\n",
    "Output: [[1,6],[8,10],[15,18]]\n",
    "\n",
    "Explanation: Since intervals [1,3] and [2,6] overlap, merge them into [1,6]."
   ]
  },
  {
   "cell_type": "code",
   "execution_count": null,
   "id": "7458baeb",
   "metadata": {},
   "outputs": [],
   "source": []
  }
 ],
 "metadata": {
  "kernelspec": {
   "display_name": "Python 3 (ipykernel)",
   "language": "python",
   "name": "python3"
  },
  "language_info": {
   "codemirror_mode": {
    "name": "ipython",
    "version": 3
   },
   "file_extension": ".py",
   "mimetype": "text/x-python",
   "name": "python",
   "nbconvert_exporter": "python",
   "pygments_lexer": "ipython3",
   "version": "3.9.7"
  }
 },
 "nbformat": 4,
 "nbformat_minor": 5
}
