{
 "cells": [
  {
   "cell_type": "markdown",
   "id": "1a8b601e",
   "metadata": {},
   "source": []
  },
  {
   "cell_type": "code",
   "execution_count": 3,
   "id": "abe1ab06",
   "metadata": {},
   "outputs": [],
   "source": [
    "def Counter(numlist):\n",
    "    counter = {}\n",
    "    for i in numlist:\n",
    "        if i not in counter:\n",
    "            counter[i] = 0\n",
    "        counter[i] += 1\n",
    "    return counter\n",
    "def UniqChar(s):\n",
    "    ctr = Counter(s)\n",
    "    for i, c in enumerate(s):\n",
    "        if ctr[c] == 1:\n",
    "            return i\n",
    "    return -1"
   ]
  },
  {
   "cell_type": "code",
   "execution_count": 4,
   "id": "cf634122",
   "metadata": {},
   "outputs": [
    {
     "data": {
      "text/plain": [
       "0"
      ]
     },
     "execution_count": 4,
     "metadata": {},
     "output_type": "execute_result"
    }
   ],
   "source": [
    "s = \"leetcode\"\n",
    "UniqChar(s)"
   ]
  },
  {
   "cell_type": "code",
   "execution_count": 5,
   "id": "d15892fc",
   "metadata": {},
   "outputs": [
    {
     "data": {
      "text/plain": [
       "2"
      ]
     },
     "execution_count": 5,
     "metadata": {},
     "output_type": "execute_result"
    }
   ],
   "source": [
    "s = \"loveleetcode\"\n",
    "UniqChar(s)"
   ]
  },
  {
   "cell_type": "code",
   "execution_count": 6,
   "id": "2d73fcbe",
   "metadata": {},
   "outputs": [
    {
     "data": {
      "text/plain": [
       "-1"
      ]
     },
     "execution_count": 6,
     "metadata": {},
     "output_type": "execute_result"
    }
   ],
   "source": [
    "s = \"aabb\"\n",
    "UniqChar(s)"
   ]
  },
  {
   "cell_type": "code",
   "execution_count": null,
   "id": "03107e7f",
   "metadata": {},
   "outputs": [],
   "source": []
  }
 ],
 "metadata": {
  "kernelspec": {
   "display_name": "Python 3 (ipykernel)",
   "language": "python",
   "name": "python3"
  },
  "language_info": {
   "codemirror_mode": {
    "name": "ipython",
    "version": 3
   },
   "file_extension": ".py",
   "mimetype": "text/x-python",
   "name": "python",
   "nbconvert_exporter": "python",
   "pygments_lexer": "ipython3",
   "version": "3.9.7"
  }
 },
 "nbformat": 4,
 "nbformat_minor": 5
}
