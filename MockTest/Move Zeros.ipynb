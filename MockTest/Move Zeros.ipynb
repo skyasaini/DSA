{
 "cells": [
  {
   "cell_type": "markdown",
   "id": "20dc0e07",
   "metadata": {},
   "source": [
    "### Move Zeroes\n",
    "\n",
    "Given an integer array nums, move all 0's to the end of it while maintaining the relative order of the non-zero elements.\n",
    "\n",
    "Note that you must do this in-place without making a copy of the array."
   ]
  },
  {
   "cell_type": "code",
   "execution_count": 1,
   "id": "47118577",
   "metadata": {},
   "outputs": [],
   "source": [
    "def resuledlist(nums):\n",
    "    count = 0\n",
    "    for i in range(len(nums)):\n",
    "        if nums[i] != 0:\n",
    "            nums[count] = nums[i]\n",
    "            count+=1\n",
    "    while count < len(nums):\n",
    "        nums[count] =0\n",
    "        count+=1\n",
    "    return nums"
   ]
  },
  {
   "cell_type": "code",
   "execution_count": 2,
   "id": "5b6102f0",
   "metadata": {},
   "outputs": [
    {
     "data": {
      "text/plain": [
       "[1, 3, 12, 0, 0]"
      ]
     },
     "execution_count": 2,
     "metadata": {},
     "output_type": "execute_result"
    }
   ],
   "source": [
    "nums = [0,1,0,3,12]\n",
    "resuledlist(nums)"
   ]
  },
  {
   "cell_type": "code",
   "execution_count": 3,
   "id": "f0f47f1a",
   "metadata": {},
   "outputs": [
    {
     "data": {
      "text/plain": [
       "[0]"
      ]
     },
     "execution_count": 3,
     "metadata": {},
     "output_type": "execute_result"
    }
   ],
   "source": [
    "nums = [0]\n",
    "resuledlist(nums)"
   ]
  },
  {
   "cell_type": "code",
   "execution_count": null,
   "id": "d031e5eb",
   "metadata": {},
   "outputs": [],
   "source": []
  }
 ],
 "metadata": {
  "kernelspec": {
   "display_name": "Python 3 (ipykernel)",
   "language": "python",
   "name": "python3"
  },
  "language_info": {
   "codemirror_mode": {
    "name": "ipython",
    "version": 3
   },
   "file_extension": ".py",
   "mimetype": "text/x-python",
   "name": "python",
   "nbconvert_exporter": "python",
   "pygments_lexer": "ipython3",
   "version": "3.9.7"
  }
 },
 "nbformat": 4,
 "nbformat_minor": 5
}
