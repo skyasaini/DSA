{
 "cells": [
  {
   "cell_type": "markdown",
   "id": "a2fe2007",
   "metadata": {},
   "source": [
    "### Question 1\n",
    "Given an integer array nums of length n and an integer target, find three integers\n",
    "in nums such that the sum is closest to the target.\n",
    "Return the sum of the three integers.\n",
    "\n",
    "You may assume that each input would have exactly one solution.\n",
    "\n",
    "Example 1:\n",
    "Input: nums = [-1,2,1,-4], target = 1\n",
    "Output: 2\n",
    "\n",
    "Explanation: The sum that is closest to the target is 2. (-1 + 2 + 1 = 2)."
   ]
  },
  {
   "cell_type": "code",
   "execution_count": 106,
   "id": "3fd07c2c",
   "metadata": {},
   "outputs": [],
   "source": [
    "import sys\n",
    "def nearsum(nums,x):\n",
    "    nums.sort()\n",
    "    closesum = sys.maxsize\n",
    "    for i in range(len(nums)-2):\n",
    "        start = i+1\n",
    "        end = len(nums)-1\n",
    "        while start < end:\n",
    "            sumarray = nums[i]+nums[start]+nums[end]\n",
    "            if abs(x-sumarray) < abs(x-closesum):\n",
    "                closesum = sumarray\n",
    "            if sumarray > x:\n",
    "                end -= 1\n",
    "            else:\n",
    "                start += 1\n",
    "    return closesum"
   ]
  },
  {
   "cell_type": "code",
   "execution_count": 107,
   "id": "4cd57596",
   "metadata": {},
   "outputs": [
    {
     "data": {
      "text/plain": [
       "2"
      ]
     },
     "execution_count": 107,
     "metadata": {},
     "output_type": "execute_result"
    }
   ],
   "source": [
    "nums = [-1,2,1,-4]\n",
    "x = 1\n",
    "nearsum(nums,x)"
   ]
  },
  {
   "cell_type": "code",
   "execution_count": 108,
   "id": "b5d302b3",
   "metadata": {},
   "outputs": [
    {
     "data": {
      "text/plain": [
       "9"
      ]
     },
     "execution_count": 108,
     "metadata": {},
     "output_type": "execute_result"
    }
   ],
   "source": [
    "nums = [1,2,3,4,-5]\n",
    "x= 10\n",
    "nearsum(nums,x)"
   ]
  },
  {
   "cell_type": "markdown",
   "id": "ed00749c",
   "metadata": {},
   "source": [
    "### Question 2\n",
    "Given an array nums of n integers, return an array of all the unique quadruplets\n",
    "\n",
    "[nums[a], nums[b], nums[c], nums[d]] such that:\n",
    "\n",
    "           ● 0 <= a, b, c, d < n\n",
    "           \n",
    "           ● a, b, c, and d are distinct.\n",
    "           \n",
    "           ● nums[a] + nums[b] + nums[c] + nums[d] == target\n",
    "\n",
    "You may return the answer in any order.\n",
    "\n",
    "Example 1:\n",
    "Input: nums = [1,0,-1,0,-2,2], target = 0\n",
    "Output: [[-2,-1,1,2],[-2,0,0,2],[-1,0,0,1]]"
   ]
  },
  {
   "cell_type": "code",
   "execution_count": 120,
   "id": "980d2f55",
   "metadata": {},
   "outputs": [],
   "source": [
    "def fourSum(nums, target):\n",
    "    n, res = len(nums), []\n",
    "    if n < 4:\n",
    "        return []\n",
    "    nums.sort()\n",
    "    for i in range(n - 3):\n",
    "        if i > 0 and nums[i] == nums[i - 1]:\n",
    "            continue\n",
    "        for j in range(i + 1, n - 2):\n",
    "            if j > i + 1 and nums[j] == nums[j - 1]:\n",
    "                continue\n",
    "            k, l = j + 1, n - 1\n",
    "            while k < l:\n",
    "                if nums[i] + nums[j] + nums[k] + nums[l] == target:\n",
    "                    res.append([nums[i], nums[j], nums[k], nums[l]])\n",
    "                    k += 1\n",
    "                    l -= 1\n",
    "                    while k < n and nums[k] == nums[k - 1]:\n",
    "                        k += 1\n",
    "                    while l > j and nums[l] == nums[l + 1]:\n",
    "                        l -= 1\n",
    "                elif nums[i] + nums[j] + nums[k] + nums[l] < target:\n",
    "                    k += 1\n",
    "                else:\n",
    "                    l -= 1\n",
    "    return res"
   ]
  },
  {
   "cell_type": "code",
   "execution_count": 121,
   "id": "a467460b",
   "metadata": {},
   "outputs": [
    {
     "data": {
      "text/plain": [
       "[[-2, -1, 1, 2], [-2, 0, 0, 2], [-1, 0, 0, 1]]"
      ]
     },
     "execution_count": 121,
     "metadata": {},
     "output_type": "execute_result"
    }
   ],
   "source": [
    "nums = [1,0,-1,0,-2,2]\n",
    "target = 0\n",
    "fourSum(nums, target)"
   ]
  },
  {
   "cell_type": "markdown",
   "id": "3b587401",
   "metadata": {},
   "source": [
    "Question 3\n",
    "A permutation of an array of integers is an arrangement of its members into a\n",
    "sequence or linear order.\n",
    "\n",
    "For example, for arr = [1,2,3], the following are all the permutations of arr:\n",
    "[1,2,3], [1,3,2], [2, 1, 3], [2, 3, 1], [3,1,2], [3,2,1].\n",
    "\n",
    "The next permutation of an array of integers is the next lexicographically greater\n",
    "permutation of its integer. More formally, if all the permutations of the array are\n",
    "sorted in one container according to their lexicographical order, then the next\n",
    "permutation of that array is the permutation that follows it in the sorted container.\n",
    "\n",
    "If such an arrangement is not possible, the array must be rearranged as the\n",
    "lowest possible order (i.e., sorted in ascending order).\n",
    "\n",
    "● For example, the next permutation of arr = [1,2,3] is [1,3,2].\n",
    "● Similarly, the next permutation of arr = [2,3,1] is [3,1,2].\n",
    "● While the next permutation of arr = [3,2,1] is [1,2,3] because [3,2,1] does not\n",
    "have a lexicographical larger rearrangement.\n",
    "\n",
    "Given an array of integers nums, find the next permutation of nums.\n",
    "The replacement must be in place and use only constant extra memory.\n"
   ]
  },
  {
   "cell_type": "code",
   "execution_count": 123,
   "id": "c1f2f750",
   "metadata": {},
   "outputs": [],
   "source": [
    "def reverse(nums, i, j):\n",
    "    while i < j:\n",
    "        # swapping\n",
    "        nums[i], nums[j] = nums[j], nums[i]\n",
    "        # incrementing\n",
    "        i += 1\n",
    "        j -= 1\n",
    "\n",
    "\n",
    "def nextPermutation(nums):\n",
    "    \"\"\"\n",
    "    Do not return anything, modify nums in-place instead.\n",
    "    \"\"\"\n",
    "\n",
    "    # index of the first element that is smaller than the element to its right\n",
    "    lv_index = -1\n",
    "\n",
    "    for i in range(len(nums) - 1, 0, -1):\n",
    "        if nums[i] > nums[i - 1]:\n",
    "            lv_index = i - 1\n",
    "            break\n",
    "\n",
    "    # Base condition\n",
    "    if lv_index == -1:\n",
    "        reverse(nums, 0, len(nums) - 1)\n",
    "        return\n",
    "\n",
    "    j = len(nums) - 1\n",
    "\n",
    "    for i in range(len(nums) - 1, lv_index, -1):\n",
    "        if nums[i] > nums[lv_index]:\n",
    "            j = i\n",
    "            break\n",
    "\n",
    "    # swapping\n",
    "    nums[lv_index], nums[j] = nums[j], nums[lv_index]\n",
    "    # reversing\n",
    "    reverse(nums, lv_index + 1, len(nums) - 1)\n"
   ]
  },
  {
   "cell_type": "code",
   "execution_count": 124,
   "id": "bfe575b8",
   "metadata": {},
   "outputs": [],
   "source": [
    "nums = [1,2,3]\n",
    "nextPermutation(nums)"
   ]
  },
  {
   "cell_type": "code",
   "execution_count": 125,
   "id": "778d2200",
   "metadata": {},
   "outputs": [
    {
     "data": {
      "text/plain": [
       "[1, 3, 2]"
      ]
     },
     "execution_count": 125,
     "metadata": {},
     "output_type": "execute_result"
    }
   ],
   "source": [
    "nums"
   ]
  },
  {
   "cell_type": "markdown",
   "id": "5e8ac4fc",
   "metadata": {},
   "source": [
    "### Question 4\n",
    "Given a sorted array of distinct integers and a target value, return the index if the\n",
    "target is found. If not, return the index where it would be if it were inserted in\n",
    "order.\n",
    "\n",
    "You must write an algorithm with O(log n) runtime complexity.\n",
    "\n",
    "Example 1:\n",
    "Input: nums = [1,3,5,6], target = 5\n",
    "Output: 2"
   ]
  },
  {
   "cell_type": "code",
   "execution_count": 130,
   "id": "1bf70cdf",
   "metadata": {},
   "outputs": [],
   "source": [
    "def findindex(nums,target):\n",
    "    left, right = 0, len(nums)\n",
    "    while left < right:\n",
    "        mid = (left + right)//2\n",
    "        if nums[mid] >= target:\n",
    "            right = mid\n",
    "        else:\n",
    "            left = mid + 1\n",
    "    return left"
   ]
  },
  {
   "cell_type": "code",
   "execution_count": 131,
   "id": "58ed1bc3",
   "metadata": {},
   "outputs": [
    {
     "data": {
      "text/plain": [
       "2"
      ]
     },
     "execution_count": 131,
     "metadata": {},
     "output_type": "execute_result"
    }
   ],
   "source": [
    "nums = [1,3,5,6]\n",
    "target = 5\n",
    "findindex(nums,target)"
   ]
  },
  {
   "cell_type": "markdown",
   "id": "8ee54b0f",
   "metadata": {},
   "source": [
    "### Question 5\n",
    "You are given a large integer represented as an integer array digits, where each digits[i] is the ith digit of the integer. The digits are ordered from most significant to least significant in left-to-right order. The large integer does not contain any leading 0's.\n",
    "\n",
    "Increment the large integer by one and return the resulting array of digits.\n",
    "**Example 1:**\n",
    "Input: digits = [1,2,3]\n",
    "Output: [1,2,4]\n",
    "\n",
    "**Explanation:** The array represents the integer 123.\n",
    "\n",
    "Incrementing by one gives 123 + 1 = 124.\n",
    "Thus, the result should be [1,2,4]."
   ]
  },
  {
   "cell_type": "code",
   "execution_count": 132,
   "id": "e8372475",
   "metadata": {},
   "outputs": [],
   "source": [
    "def getplusone(nums):\n",
    "    num_length = len(nums)\n",
    "    i = num_length - 1\n",
    "    while nums[i]==9 and i >=0:\n",
    "        i -= 1\n",
    "        if i == -1:\n",
    "            result = [0]*(num_length+1)\n",
    "            result[0] = 1\n",
    "            return result\n",
    "    result = [0]*num_length\n",
    "    result[i] = nums[i]+1\n",
    "    for j in range(i-1,-1,-1):\n",
    "        result[j] = nums[j]\n",
    "    return result\n"
   ]
  },
  {
   "cell_type": "code",
   "execution_count": 133,
   "id": "b1212f93",
   "metadata": {},
   "outputs": [
    {
     "data": {
      "text/plain": [
       "[1, 2, 4]"
      ]
     },
     "execution_count": 133,
     "metadata": {},
     "output_type": "execute_result"
    }
   ],
   "source": [
    "nums = [1,2,3]\n",
    "getplusone(nums)"
   ]
  },
  {
   "cell_type": "code",
   "execution_count": 134,
   "id": "97ea35f8",
   "metadata": {},
   "outputs": [
    {
     "data": {
      "text/plain": [
       "[1, 0, 0, 0]"
      ]
     },
     "execution_count": 134,
     "metadata": {},
     "output_type": "execute_result"
    }
   ],
   "source": [
    "nums = [9,9,9]\n",
    "getplusone(nums)"
   ]
  },
  {
   "cell_type": "markdown",
   "id": "f62c6092",
   "metadata": {},
   "source": [
    "### Question 6\n",
    "Given a non-empty array of integers nums, every element appears twice except\n",
    "for one. Find that single one.\n",
    "\n",
    "You must implement a solution with a linear runtime complexity and use only\n",
    "constant extra space.\n",
    "\n",
    "Example 1:\n",
    "Input: nums = [2,2,1]\n",
    "Output: 1"
   ]
  },
  {
   "cell_type": "code",
   "execution_count": 155,
   "id": "125accca",
   "metadata": {},
   "outputs": [],
   "source": [
    "def counter(nums):\n",
    "    counter = {}\n",
    "    for i in nums:\n",
    "        if i not in counter:\n",
    "            counter[i] = 0\n",
    "        counter[i]+=1\n",
    "    return counter\n",
    "def finditem(nums):\n",
    "    count = counter(nums)\n",
    "    return [i for i in count if count[i]==1]"
   ]
  },
  {
   "cell_type": "code",
   "execution_count": 156,
   "id": "ec395f01",
   "metadata": {},
   "outputs": [
    {
     "data": {
      "text/plain": [
       "[1]"
      ]
     },
     "execution_count": 156,
     "metadata": {},
     "output_type": "execute_result"
    }
   ],
   "source": [
    "nums = [2,2,1] \n",
    "finditem(nums)"
   ]
  },
  {
   "cell_type": "code",
   "execution_count": 157,
   "id": "329f323d",
   "metadata": {},
   "outputs": [
    {
     "data": {
      "text/plain": [
       "[3]"
      ]
     },
     "execution_count": 157,
     "metadata": {},
     "output_type": "execute_result"
    }
   ],
   "source": [
    "nums = [2,2,1,1,3,4,4,5,5] \n",
    "finditem(nums)"
   ]
  },
  {
   "cell_type": "markdown",
   "id": "8ed525a9",
   "metadata": {},
   "source": [
    "### Question 7\n",
    "You are given an inclusive range [lower, upper] and a sorted unique integer array\n",
    "nums, where all elements are within the inclusive range.\n",
    "\n",
    "A number x is considered missing if x is in the range [lower, upper] and x is not in\n",
    "nums.\n",
    "\n",
    "Return the shortest sorted list of ranges that exactly covers all the missing\n",
    "numbers. That is, no element of nums is included in any of the ranges, and each\n",
    "missing number is covered by one of the ranges.\n",
    "\n",
    "Example 1:\n",
    "Input: nums = [0,1,3,50,75], lower = 0, upper = 99\n",
    "Output: [[2,2],[4,49],[51,74],[76,99]]\n"
   ]
  },
  {
   "cell_type": "code",
   "execution_count": 158,
   "id": "01201012",
   "metadata": {},
   "outputs": [],
   "source": [
    "def findMissingRanges(nums, lower, upper):\n",
    "    def f(a, b):\n",
    "        return str(a) if a == b else f'{a}->{b}'\n",
    "\n",
    "    n = len(nums)\n",
    "    if n == 0:\n",
    "        return [f(lower, upper)]\n",
    "    ans = []\n",
    "    if nums[0] > lower:\n",
    "        ans.append(f(lower, nums[0] - 1))\n",
    "    for a, b in pairwise(nums):\n",
    "        if b - a > 1:\n",
    "            ans.append(f(a + 1, b - 1))\n",
    "    if nums[-1] < upper:\n",
    "        ans.append(f(nums[-1] + 1, upper))\n",
    "    return ans"
   ]
  },
  {
   "cell_type": "markdown",
   "id": "05abb640",
   "metadata": {},
   "source": [
    "### Question 8\n",
    "Given an array of meeting time intervals where intervals[i] = [starti, endi],\n",
    "determine if a person could attend all meetings.\n",
    "\n",
    "Example 1:\n",
    "Input: intervals = [[0,30],[5,10],[15,20]]\n",
    "Output: false"
   ]
  },
  {
   "cell_type": "code",
   "execution_count": 162,
   "id": "2c4b4621",
   "metadata": {},
   "outputs": [],
   "source": [
    "def canAttendMeetings(intervals):   \n",
    "    intervals.sort(key=lambda a: a[0])\n",
    "    for i in range(len(intervals)-1):\n",
    "        if intervals[i][-1] > intervals[i+1][0]:\n",
    "            return False\n",
    "    return True"
   ]
  },
  {
   "cell_type": "code",
   "execution_count": 163,
   "id": "b2ee1e03",
   "metadata": {},
   "outputs": [
    {
     "data": {
      "text/plain": [
       "False"
      ]
     },
     "execution_count": 163,
     "metadata": {},
     "output_type": "execute_result"
    }
   ],
   "source": [
    "intervals = [[0,30],[5,10],[15,20]] \n",
    "canAttendMeetings(intervals)"
   ]
  },
  {
   "cell_type": "code",
   "execution_count": null,
   "id": "0710f384",
   "metadata": {},
   "outputs": [],
   "source": []
  }
 ],
 "metadata": {
  "kernelspec": {
   "display_name": "Python 3 (ipykernel)",
   "language": "python",
   "name": "python3"
  },
  "language_info": {
   "codemirror_mode": {
    "name": "ipython",
    "version": 3
   },
   "file_extension": ".py",
   "mimetype": "text/x-python",
   "name": "python",
   "nbconvert_exporter": "python",
   "pygments_lexer": "ipython3",
   "version": "3.9.7"
  }
 },
 "nbformat": 4,
 "nbformat_minor": 5
}
