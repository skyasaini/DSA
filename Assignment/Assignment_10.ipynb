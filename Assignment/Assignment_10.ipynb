{
 "cells": [
  {
   "cell_type": "markdown",
   "id": "fa109bcd",
   "metadata": {},
   "source": [
    "### Question 1\n",
    "\n",
    "Given an integer `n`, return *`true` if it is a power of three. Otherwise, return `false`*.\n",
    "\n",
    "An integer `n` is a power of three, if there exists an integer `x` such that `n == 3x`.\n",
    "\n",
    "**Example 1:**\n",
    "    \n",
    "Input: n = 27\n",
    "Output: true\n",
    "Explanation: 27 = 33\n",
    "\n",
    "</aside>"
   ]
  },
  {
   "cell_type": "code",
   "execution_count": 15,
   "id": "5a76cc4e",
   "metadata": {},
   "outputs": [],
   "source": [
    "def powerOf3(n):\n",
    "    if n==1:\n",
    "        return True\n",
    "    elif n <= 0:\n",
    "        return False\n",
    "    return powerOf3(n/3)"
   ]
  },
  {
   "cell_type": "code",
   "execution_count": 16,
   "id": "9a2c0e77",
   "metadata": {},
   "outputs": [
    {
     "data": {
      "text/plain": [
       "True"
      ]
     },
     "execution_count": 16,
     "metadata": {},
     "output_type": "execute_result"
    }
   ],
   "source": [
    "powerOf3(27)"
   ]
  },
  {
   "cell_type": "code",
   "execution_count": 17,
   "id": "a451ab85",
   "metadata": {},
   "outputs": [
    {
     "data": {
      "text/plain": [
       "False"
      ]
     },
     "execution_count": 17,
     "metadata": {},
     "output_type": "execute_result"
    }
   ],
   "source": [
    "powerOf3(2)"
   ]
  },
  {
   "cell_type": "code",
   "execution_count": 18,
   "id": "d4462e9d",
   "metadata": {},
   "outputs": [
    {
     "data": {
      "text/plain": [
       "False"
      ]
     },
     "execution_count": 18,
     "metadata": {},
     "output_type": "execute_result"
    }
   ],
   "source": [
    "powerOf3(0)"
   ]
  },
  {
   "cell_type": "code",
   "execution_count": 19,
   "id": "6d513ca7",
   "metadata": {},
   "outputs": [
    {
     "data": {
      "text/plain": [
       "False"
      ]
     },
     "execution_count": 19,
     "metadata": {},
     "output_type": "execute_result"
    }
   ],
   "source": [
    "powerOf3(-1)"
   ]
  },
  {
   "cell_type": "markdown",
   "id": "d7990a38",
   "metadata": {},
   "source": [
    "### Question 2\n",
    "\n",
    "You have a list `arr` of all integers in the range `[1, n]` sorted in a strictly increasing order. Apply the following algorithm on `arr`:\n",
    "\n",
    "- Starting from left to right, remove the first number and every other number afterward until you reach the end of the list.\n",
    "- Repeat the previous step again, but this time from right to left, remove the rightmost number and every other number from the remaining numbers.\n",
    "- Keep repeating the steps again, alternating left to right and right to left, until a single number remains.\n",
    "\n",
    "Given the integer `n`, return *the last number that remains in* `arr`.\n",
    "\n",
    "Input: n = 9\n",
    "Output: 6\n",
    "Explanation:\n",
    "arr = [1, 2,3, 4,5, 6,7, 8,9]\n",
    "arr = [2,4, 6,8]\n",
    "arr = [2, 6]\n",
    "arr = [6]\n",
    "\n",
    "</aside>"
   ]
  },
  {
   "cell_type": "code",
   "execution_count": 26,
   "id": "05c4be61",
   "metadata": {},
   "outputs": [
    {
     "name": "stdout",
     "output_type": "stream",
     "text": [
      "6\n"
     ]
    }
   ],
   "source": [
    "def lastRemaining(n):\n",
    "    if n == 1:\n",
    "        return 1\n",
    "    return 2 * (n // 2 + 1 - lastRemaining(n // 2))\n",
    "\n",
    "# Test the function\n",
    "n = 9\n",
    "result = lastRemaining(n)\n",
    "print(result)"
   ]
  },
  {
   "cell_type": "code",
   "execution_count": 27,
   "id": "b8a02933",
   "metadata": {},
   "outputs": [],
   "source": [
    "def lastRemaining(n):\n",
    "    a1, an = 1, n\n",
    "    i, step, cnt = 0, 1, n\n",
    "    while cnt > 1:\n",
    "        if i % 2:\n",
    "            an -= step\n",
    "            if cnt % 2:\n",
    "                a1 += step\n",
    "        else:\n",
    "            a1 += step\n",
    "            if cnt % 2:\n",
    "                an -= step\n",
    "        cnt >>= 1\n",
    "        step <<= 1\n",
    "        i += 1\n",
    "    return a1"
   ]
  },
  {
   "cell_type": "code",
   "execution_count": 28,
   "id": "c57d2161",
   "metadata": {},
   "outputs": [
    {
     "name": "stdout",
     "output_type": "stream",
     "text": [
      "6\n"
     ]
    }
   ],
   "source": [
    "n = 9\n",
    "result = lastRemaining(n)\n",
    "print(result)"
   ]
  },
  {
   "cell_type": "markdown",
   "id": "36d88f3e",
   "metadata": {},
   "source": [
    "### Question 3\n",
    "\n",
    "**Given a set represented as a string, write a recursive code to print all subsets of it. The subsets can be printed in any order**.\n",
    "\n",
    "**Example 1:**\n",
    "\n",
    "Input :  set = “abc”\n",
    "\n",
    "Output : { “”, “a”, “b”, “c”, “ab”, “ac”, “bc”, “abc”}\n",
    "\n",
    "**Example 2:**\n",
    "\n",
    "Input : set = “abcd”\n",
    "\n",
    "Output : { “”, “a” ,”ab” ,”abc” ,”abcd”, “abd” ,”ac” ,”acd”, “ad” ,”b”, “bc” ,”bcd” ,”bd” ,”c” ,”cd” ,”d” }\n",
    "\n",
    "</aside>"
   ]
  },
  {
   "cell_type": "code",
   "execution_count": 29,
   "id": "d27544a0",
   "metadata": {},
   "outputs": [
    {
     "name": "stdout",
     "output_type": "stream",
     "text": [
      "\n",
      "c\n",
      "b\n",
      "bc\n",
      "a\n",
      "ac\n",
      "ab\n",
      "abc\n"
     ]
    }
   ],
   "source": [
    "def printSubsets(s, subset=\"\"):\n",
    "    if len(s) == 0:\n",
    "        print(subset)\n",
    "    else:\n",
    "        # Recursive call without including current element\n",
    "        printSubsets(s[1:], subset)\n",
    "        \n",
    "        # Recursive call including current element\n",
    "        printSubsets(s[1:], subset + s[0])\n",
    "\n",
    "# Test the function\n",
    "set_str = \"abc\"\n",
    "printSubsets(set_str)\n"
   ]
  },
  {
   "cell_type": "markdown",
   "id": "54299843",
   "metadata": {},
   "source": [
    "### Question 4\n",
    "\n",
    "Given a string calculate length of the string using recursion.\n",
    "\n",
    "**Examples:**\n",
    "Input : str = \"abcd\"\n",
    "Output :4\n",
    "\n",
    "Input : str = \"GEEKSFORGEEKS\"\n",
    "Output :13\n",
    "</aside>"
   ]
  },
  {
   "cell_type": "code",
   "execution_count": 30,
   "id": "e2c14b41",
   "metadata": {},
   "outputs": [
    {
     "name": "stdout",
     "output_type": "stream",
     "text": [
      "Length of the string: 4\n"
     ]
    }
   ],
   "source": [
    "def calculateLength(s):\n",
    "    if s == \"\":\n",
    "        return 0\n",
    "    else:\n",
    "        return 1 + calculateLength(s[1:])\n",
    "\n",
    "# Test the function\n",
    "string = \"abcd\"\n",
    "length = calculateLength(string)\n",
    "print(\"Length of the string:\", length)\n"
   ]
  },
  {
   "cell_type": "code",
   "execution_count": 31,
   "id": "b6456d26",
   "metadata": {},
   "outputs": [
    {
     "name": "stdout",
     "output_type": "stream",
     "text": [
      "Length of the string: 13\n"
     ]
    }
   ],
   "source": [
    "string = \"GEEKSFORGEEKS\"\n",
    "length = calculateLength(string)\n",
    "print(\"Length of the string:\", length)"
   ]
  },
  {
   "cell_type": "markdown",
   "id": "0dcc47ea",
   "metadata": {},
   "source": [
    "We are given a string S, we need to find count of all contiguous substrings starting and ending with same character.\n",
    "\n",
    "**Examples :**\n",
    "\n",
    "Input  : S = \"abcab\"\n",
    "Output : 7\n",
    "There are 15 substrings of \"abcab\"\n",
    "a, ab, abc, abca, abcab, b, bc, bca\n",
    "bcab, c, ca, cab, a, ab, b\n",
    "Out of the above substrings, there\n",
    "are 7 substrings : a, abca, b, bcab,\n",
    "c, a and b.\n",
    "\n",
    "Input  : S = \"aba\"\n",
    "Output : 4\n",
    "The substrings are a, b, a and aba"
   ]
  },
  {
   "cell_type": "code",
   "execution_count": 1,
   "id": "728794a9",
   "metadata": {},
   "outputs": [
    {
     "name": "stdout",
     "output_type": "stream",
     "text": [
      "Count of substrings: 5\n"
     ]
    }
   ],
   "source": [
    "def countSubstrings(s):\n",
    "    count = 0\n",
    "    n = len(s)\n",
    "    \n",
    "    # Check each character in the string\n",
    "    for i in range(n):\n",
    "        count += countPalindromes(s, i, i)   # Count odd length palindromic substrings\n",
    "        count += countPalindromes(s, i, i+1) # Count even length palindromic substrings\n",
    "    \n",
    "    return count\n",
    "\n",
    "def countPalindromes(s, left, right):\n",
    "    count = 0\n",
    "    n = len(s)\n",
    "    \n",
    "    # Expand the palindrome on both sides\n",
    "    while left >= 0 and right < n and s[left] == s[right]:\n",
    "        count += 1\n",
    "        left -= 1\n",
    "        right += 1\n",
    "    \n",
    "    return count\n",
    "\n",
    "# Test the function\n",
    "string = \"abcab\"\n",
    "count = countSubstrings(string)\n",
    "print(\"Count of substrings:\", count)\n"
   ]
  },
  {
   "cell_type": "markdown",
   "id": "69b1e7e9",
   "metadata": {},
   "source": [
    "### Question 6\n",
    "\n",
    "The [tower of Hanoi](https://en.wikipedia.org/wiki/Tower_of_Hanoi) is a famous puzzle where we have three rods and **N** disks. The objective of the puzzle is to move the entire stack to another rod. You are given the number of discs **N**. Initially, these discs are in the rod 1. You need to print all the steps of discs movement so that all the discs reach the 3rd rod. Also, you need to find the total moves.**Note:** The discs are arranged such that the **top disc is numbered 1** and the **bottom-most disc is numbered N**. Also, all the discs have **different sizes** and a bigger disc **cannot** be put on the top of a smaller disc. Refer the provided link to get a better clarity about the puzzle.\n",
    "\n",
    "**Example 1:**\n",
    "Input:\n",
    "N = 2\n",
    "Output:\n",
    "move disk 1 from rod 1 to rod 2\n",
    "move disk 2 from rod 1 to rod 3\n",
    "move disk 1 from rod 2 to rod 3\n",
    "3\n",
    "Explanation:For N=2 , steps will be\n",
    "as follows in the example and total\n",
    "3 steps will be taken.\n",
    "\n",
    "</aside>"
   ]
  },
  {
   "cell_type": "code",
   "execution_count": 2,
   "id": "7514947f",
   "metadata": {},
   "outputs": [
    {
     "name": "stdout",
     "output_type": "stream",
     "text": [
      "Move disk 1 from rod 1 to rod 2\n",
      "Move disk 2 from rod 1 to rod 3\n",
      "Move disk 1 from rod 2 to rod 3\n",
      "Total moves: 3\n"
     ]
    }
   ],
   "source": [
    "def towerOfHanoi(n, source, destination, auxiliary):\n",
    "    if n == 1:\n",
    "        print(\"Move disk 1 from rod\", source, \"to rod\", destination)\n",
    "        return 1\n",
    "    else:\n",
    "        count = 0\n",
    "        count += towerOfHanoi(n-1, source, auxiliary, destination)\n",
    "        print(\"Move disk\", n, \"from rod\", source, \"to rod\", destination)\n",
    "        count += 1\n",
    "        count += towerOfHanoi(n-1, auxiliary, destination, source)\n",
    "        return count\n",
    "\n",
    "# Test the function\n",
    "N = 2\n",
    "total_moves = towerOfHanoi(N, 1, 3, 2)\n",
    "print(\"Total moves:\", total_moves)\n"
   ]
  },
  {
   "cell_type": "code",
   "execution_count": 3,
   "id": "5c05afe7",
   "metadata": {},
   "outputs": [
    {
     "name": "stdout",
     "output_type": "stream",
     "text": [
      "Move disk 1 from rod 1 to rod 3\n",
      "Move disk 2 from rod 1 to rod 2\n",
      "Move disk 1 from rod 3 to rod 2\n",
      "Move disk 3 from rod 1 to rod 3\n",
      "Move disk 1 from rod 2 to rod 1\n",
      "Move disk 2 from rod 2 to rod 3\n",
      "Move disk 1 from rod 1 to rod 3\n",
      "Total moves: 7\n"
     ]
    }
   ],
   "source": [
    "N = 3\n",
    "total_moves = towerOfHanoi(N, 1, 3, 2)\n",
    "print(\"Total moves:\", total_moves)"
   ]
  },
  {
   "cell_type": "markdown",
   "id": "dbeb96c0",
   "metadata": {},
   "source": [
    "### Question 7\n",
    "\n",
    "Given a string **str**, the task is to print all the permutations of **str**. A **permutation** is an arrangement of all or part of a set of objects, with regard to the order of the arrangement. For instance, the words ‘bat’ and ‘tab’ represents two distinct permutation (or arrangements) of a similar three letter word.\n",
    "\n",
    "**Examples:**\n",
    "\n",
    "> Input: str = “cd”\n",
    "> \n",
    "> \n",
    "> **Output:** cd dc\n",
    "> \n",
    "> **Input:** str = “abb”\n",
    "> \n",
    "> **Output:** abb abb bab bba bab bba\n",
    "> \n",
    "</aside>"
   ]
  },
  {
   "cell_type": "code",
   "execution_count": 4,
   "id": "60b34d24",
   "metadata": {},
   "outputs": [
    {
     "name": "stdout",
     "output_type": "stream",
     "text": [
      "cd\n",
      "dc\n"
     ]
    }
   ],
   "source": [
    "def permute(s, left, right):\n",
    "    if left == right:\n",
    "        print(''.join(s))\n",
    "    else:\n",
    "        for i in range(left, right + 1):\n",
    "            s[left], s[i] = s[i], s[left]\n",
    "            permute(s, left + 1, right)\n",
    "            s[left], s[i] = s[i], s[left]  # backtrack\n",
    "\n",
    "# Test the function\n",
    "str = \"cd\"\n",
    "permute(list(str), 0, len(str) - 1)\n"
   ]
  },
  {
   "cell_type": "markdown",
   "id": "f4bd9abd",
   "metadata": {},
   "source": [
    "### Question 8\n",
    "\n",
    "Given a string, count total number of consonants in it. A consonant is an English alphabet character that is not vowel (a, e, i, o and u). Examples of constants are b, c, d, f, and g.\n",
    "\n",
    "**Examples :**\n",
    "Input : abc de\n",
    "Output : 3\n",
    "There are three consonants b, c and d.\n",
    "\n",
    "Input : geeksforgeeks portal\n",
    "Output : 12\n",
    "</aside>"
   ]
  },
  {
   "cell_type": "code",
   "execution_count": 5,
   "id": "611f3ecf",
   "metadata": {},
   "outputs": [
    {
     "name": "stdout",
     "output_type": "stream",
     "text": [
      "3\n",
      "12\n"
     ]
    }
   ],
   "source": [
    "def count_consonants(string):\n",
    "    vowels = ['a', 'e', 'i', 'o', 'u']\n",
    "    count = 0\n",
    "    for char in string:\n",
    "        if char.isalpha() and char.lower() not in vowels:\n",
    "            count += 1\n",
    "    return count\n",
    "\n",
    "# Test the function\n",
    "string = \"abc de\"\n",
    "print(count_consonants(string))  # Output: 3\n",
    "\n",
    "string = \"geeksforgeeks portal\"\n",
    "print(count_consonants(string))  # Output: 12\n"
   ]
  },
  {
   "cell_type": "code",
   "execution_count": null,
   "id": "89342be9",
   "metadata": {},
   "outputs": [],
   "source": []
  }
 ],
 "metadata": {
  "kernelspec": {
   "display_name": "Python 3 (ipykernel)",
   "language": "python",
   "name": "python3"
  },
  "language_info": {
   "codemirror_mode": {
    "name": "ipython",
    "version": 3
   },
   "file_extension": ".py",
   "mimetype": "text/x-python",
   "name": "python",
   "nbconvert_exporter": "python",
   "pygments_lexer": "ipython3",
   "version": "3.9.7"
  }
 },
 "nbformat": 4,
 "nbformat_minor": 5
}
