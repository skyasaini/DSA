{
 "cells": [
  {
   "cell_type": "markdown",
   "id": "8ba6e815",
   "metadata": {},
   "source": [
    "### Question 1\n",
    "Given an integer array nums of 2n integers, group these integers into n pairs (a1, b1), (a2, b2),..., (an, bn) such that the sum of min(ai, bi) for all i is maximized. Return the maximized sum.\n",
    "\n",
    "**Example 1:**\n",
    "Input: nums = [1,4,3,2]\n",
    "Output: 4\n",
    "\n",
    "**Explanation:** All possible pairings (ignoring the ordering of elements) are:\n",
    "\n",
    "1. (1, 4), (2, 3) -> min(1, 4) + min(2, 3) = 1 + 2 = 3\n",
    "2. (1, 3), (2, 4) -> min(1, 3) + min(2, 4) = 1 + 2 = 3\n",
    "3. (1, 2), (3, 4) -> min(1, 2) + min(3, 4) = 1 + 3 = 4\n",
    "\n",
    "So the maximum possible sum is 4\n",
    "</aside>"
   ]
  },
  {
   "cell_type": "code",
   "execution_count": 3,
   "id": "413e6361",
   "metadata": {},
   "outputs": [],
   "source": [
    "def pairsum(nums):\n",
    "    nums.sort()\n",
    "    result = 0\n",
    "    for i in range(0,len(nums)-1,2):\n",
    "        result+=nums[i]\n",
    "    return result\n",
    "    "
   ]
  },
  {
   "cell_type": "code",
   "execution_count": 4,
   "id": "674ae387",
   "metadata": {},
   "outputs": [
    {
     "data": {
      "text/plain": [
       "4"
      ]
     },
     "execution_count": 4,
     "metadata": {},
     "output_type": "execute_result"
    }
   ],
   "source": [
    "nums = [1,4,3,2]\n",
    "pairsum(nums)"
   ]
  },
  {
   "cell_type": "markdown",
   "id": "94c55c81",
   "metadata": {},
   "source": [
    "### Question 2\n",
    "Alice has n candies, where the ith candy is of type candyType[i]. Alice noticed that she started to gain weight, so she visited a doctor. \n",
    "\n",
    "The doctor advised Alice to only eat n / 2 of the candies she has (n is always even). Alice likes her candies very much, and she wants to eat the maximum number of different types of candies while still following the doctor's advice. \n",
    "\n",
    "Given the integer array candyType of length n, return the maximum number of different types of candies she can eat if she only eats n / 2 of them.\n",
    "\n",
    "Example 1:\n",
    "Input: candyType = [1,1,2,2,3,3]\n",
    "Output: 3\n",
    "\n",
    "Explanation: Alice can only eat 6 / 2 = 3 candies. Since there are only 3 types, she can eat one of each type."
   ]
  },
  {
   "cell_type": "code",
   "execution_count": 5,
   "id": "8a343b4d",
   "metadata": {},
   "outputs": [],
   "source": [
    "def uniqueCandies(candyType):\n",
    "    return min(len(candyType) >> 1, len(set(candyType)))"
   ]
  },
  {
   "cell_type": "code",
   "execution_count": 6,
   "id": "78d3a2ae",
   "metadata": {},
   "outputs": [
    {
     "data": {
      "text/plain": [
       "3"
      ]
     },
     "execution_count": 6,
     "metadata": {},
     "output_type": "execute_result"
    }
   ],
   "source": [
    "candyType = [1,1,2,2,3,3]\n",
    "uniqueCandies(candyType)"
   ]
  },
  {
   "cell_type": "markdown",
   "id": "332d1784",
   "metadata": {},
   "source": [
    "### Question 3\n",
    "We define a harmonious array as an array where the difference between its maximum value\n",
    "and its minimum value is exactly 1.\n",
    "\n",
    "Given an integer array nums, return the length of its longest harmonious subsequence\n",
    "among all its possible subsequences.\n",
    "\n",
    "A subsequence of an array is a sequence that can be derived from the array by deleting some or no elements without changing the order of the remaining elements.\n",
    "\n",
    "Example 1:\n",
    "Input: nums = [1,3,2,2,5,2,3,7]\n",
    "\n",
    "Output: 5\n",
    "\n",
    "Explanation: The longest harmonious subsequence is [3,2,2,2,3]."
   ]
  },
  {
   "cell_type": "code",
   "execution_count": 27,
   "id": "6a4ca0d2",
   "metadata": {},
   "outputs": [],
   "source": [
    "def Counter(numlist):\n",
    "    counter = {}\n",
    "    for i in numlist:\n",
    "        if i not in counter:\n",
    "            counter[i] = 0\n",
    "        counter[i] += 1\n",
    "    return counter\n",
    "\n",
    "\n",
    "def harmoniousarray(nums):\n",
    "    counter = Counter(nums)\n",
    "    ans = 0\n",
    "    for num in nums:\n",
    "        if num + 1 in counter:\n",
    "            ans = max(ans, counter[num] + counter[num + 1])\n",
    "    return ans"
   ]
  },
  {
   "cell_type": "code",
   "execution_count": 28,
   "id": "ba5fa4ec",
   "metadata": {},
   "outputs": [
    {
     "data": {
      "text/plain": [
       "5"
      ]
     },
     "execution_count": 28,
     "metadata": {},
     "output_type": "execute_result"
    }
   ],
   "source": [
    "nums = [1,3,2,2,5,2,3,7]\n",
    "harmoniousarray(nums)"
   ]
  },
  {
   "cell_type": "markdown",
   "id": "653e9a56",
   "metadata": {},
   "source": [
    "### Question 4\n",
    "You have a long flowerbed in which some of the plots are planted, and some are not.\n",
    "However, flowers cannot be planted in adjacent plots.\n",
    "Given an integer array flowerbed containing 0's and 1's, where 0 means empty and 1 means not empty, and an integer n, return true if n new flowers can be planted in the flowerbed without violating the no-adjacent-flowers rule and false otherwise.\n",
    "\n",
    "Example 1:\n",
    "Input: flowerbed = [1,0,0,0,1], n = 1\n",
    "Output: true"
   ]
  },
  {
   "cell_type": "code",
   "execution_count": 58,
   "id": "9e4ea920",
   "metadata": {},
   "outputs": [],
   "source": [
    "def checkflowerplace(flowerbed,n):\n",
    "    if (len(flowerbed)==0):    \n",
    "        return False;\n",
    "    count = 0\n",
    "    for i in range(1,len(flowerbed)-1):\n",
    "        if (flowerbed[i-1]==0) & (flowerbed[i]==0) & (flowerbed[i+1]==0):\n",
    "            flowerbed[i]=1\n",
    "            count+=1\n",
    "    if count >= n:\n",
    "        return True\n",
    "    else:\n",
    "        return False"
   ]
  },
  {
   "cell_type": "code",
   "execution_count": 59,
   "id": "c966d3ea",
   "metadata": {},
   "outputs": [
    {
     "data": {
      "text/plain": [
       "True"
      ]
     },
     "execution_count": 59,
     "metadata": {},
     "output_type": "execute_result"
    }
   ],
   "source": [
    "flowerbed = [1,0,0,0,1]\n",
    "checkflowerplace(flowerbed,1)"
   ]
  },
  {
   "cell_type": "code",
   "execution_count": 63,
   "id": "d32b8c48",
   "metadata": {},
   "outputs": [
    {
     "data": {
      "text/plain": [
       "True"
      ]
     },
     "execution_count": 63,
     "metadata": {},
     "output_type": "execute_result"
    }
   ],
   "source": [
    "flowerbed = [1,0,0,0,0,0,0,0,0,0,1]\n",
    "checkflowerplace(flowerbed,2)"
   ]
  },
  {
   "cell_type": "code",
   "execution_count": 65,
   "id": "24e69932",
   "metadata": {},
   "outputs": [
    {
     "data": {
      "text/plain": [
       "True"
      ]
     },
     "execution_count": 65,
     "metadata": {},
     "output_type": "execute_result"
    }
   ],
   "source": [
    "flowerbed = [1,0,0,0,0,0,0,0,0,0,1]\n",
    "checkflowerplace(flowerbed,3)"
   ]
  },
  {
   "cell_type": "code",
   "execution_count": 66,
   "id": "8ef31c11",
   "metadata": {},
   "outputs": [
    {
     "data": {
      "text/plain": [
       "True"
      ]
     },
     "execution_count": 66,
     "metadata": {},
     "output_type": "execute_result"
    }
   ],
   "source": [
    "flowerbed = [1,0,0,0,0,0,0,0,0,0,1]\n",
    "checkflowerplace(flowerbed,4)"
   ]
  },
  {
   "cell_type": "code",
   "execution_count": 67,
   "id": "f042dc1d",
   "metadata": {},
   "outputs": [
    {
     "data": {
      "text/plain": [
       "False"
      ]
     },
     "execution_count": 67,
     "metadata": {},
     "output_type": "execute_result"
    }
   ],
   "source": [
    "flowerbed = [1,0,0,0,0,0,0,0,0,0,1]\n",
    "checkflowerplace(flowerbed,5)"
   ]
  },
  {
   "cell_type": "markdown",
   "id": "ca1735df",
   "metadata": {},
   "source": [
    "### Question 5\n",
    "Given an integer array nums, find three numbers whose product is maximum and return the maximum product.\n",
    "\n",
    "Example 1:\n",
    "Input: nums = [1,2,3]\n",
    "Output: 6"
   ]
  },
  {
   "cell_type": "code",
   "execution_count": 74,
   "id": "6693f258",
   "metadata": {},
   "outputs": [],
   "source": [
    "def maxproduct(nums):\n",
    "    nums.sort()\n",
    "    setnum = set(nums)\n",
    "    setnum=list(setnum)\n",
    "    return setnum[-1]*setnum[-2]*setnum[-3]"
   ]
  },
  {
   "cell_type": "code",
   "execution_count": 75,
   "id": "d88b8aa9",
   "metadata": {},
   "outputs": [
    {
     "data": {
      "text/plain": [
       "6"
      ]
     },
     "execution_count": 75,
     "metadata": {},
     "output_type": "execute_result"
    }
   ],
   "source": [
    "nums = [1,2,3]\n",
    "maxproduct(nums)"
   ]
  },
  {
   "cell_type": "code",
   "execution_count": 77,
   "id": "3fdefe97",
   "metadata": {},
   "outputs": [
    {
     "data": {
      "text/plain": [
       "378"
      ]
     },
     "execution_count": 77,
     "metadata": {},
     "output_type": "execute_result"
    }
   ],
   "source": [
    "nums = [1,2,3,5,6,7,9,4,2,6,1]\n",
    "maxproduct(nums)"
   ]
  },
  {
   "cell_type": "markdown",
   "id": "0efce48e",
   "metadata": {},
   "source": [
    "### Question 6\n",
    "Given an array of integers nums which is sorted in ascending order, and an integer target,\n",
    "write a function to search target in nums. If target exists, then return its index. Otherwise,\n",
    "return -1.\n",
    "\n",
    "You must write an algorithm with O(log n) runtime complexity.\n",
    "\n",
    "Input: nums = [-1,0,3,5,9,12], target = 9\n",
    "Output: 4\n",
    "\n",
    "Explanation: 9 exists in nums and its index is 4"
   ]
  },
  {
   "cell_type": "code",
   "execution_count": 84,
   "id": "5237b981",
   "metadata": {},
   "outputs": [],
   "source": [
    "def tragetindex(nums,target):\n",
    "    minval = 0 \n",
    "    maxval = len(nums)-1\n",
    "    while minval <= maxval:\n",
    "        mid = int((minval+maxval)/2)\n",
    "        if nums[mid]==target:\n",
    "            return mid\n",
    "        elif nums[mid] < target:\n",
    "            minval = mid+1\n",
    "        else:\n",
    "            maxval = mid-1\n",
    "    return -1"
   ]
  },
  {
   "cell_type": "code",
   "execution_count": 87,
   "id": "e381892a",
   "metadata": {},
   "outputs": [
    {
     "data": {
      "text/plain": [
       "4"
      ]
     },
     "execution_count": 87,
     "metadata": {},
     "output_type": "execute_result"
    }
   ],
   "source": [
    "nums = [-1,0,3,5,9,12]\n",
    "target = 9\n",
    "tragetindex(nums,target)"
   ]
  },
  {
   "cell_type": "code",
   "execution_count": 88,
   "id": "f895a89c",
   "metadata": {},
   "outputs": [
    {
     "data": {
      "text/plain": [
       "-1"
      ]
     },
     "execution_count": 88,
     "metadata": {},
     "output_type": "execute_result"
    }
   ],
   "source": [
    "nums = [-1,0,3,5,9,12]\n",
    "target = 4\n",
    "tragetindex(nums,target)"
   ]
  },
  {
   "cell_type": "markdown",
   "id": "cc188215",
   "metadata": {},
   "source": [
    "### Question 7\n",
    "An array is monotonic if it is either monotone increasing or monotone decreasing.\n",
    "\n",
    "An array nums is monotone increasing if for all i <= j, nums[i] <= nums[j]. An array nums is\n",
    "monotone decreasing if for all i <= j, nums[i] >= nums[j].\n",
    "\n",
    "Given an integer array nums, return true if the given array is monotonic, or false otherwise.\n",
    "\n",
    "Example 1:\n",
    "Input: nums = [1,2,2,3]\n",
    "Output: true"
   ]
  },
  {
   "cell_type": "code",
   "execution_count": 96,
   "id": "79fca558",
   "metadata": {},
   "outputs": [],
   "source": [
    "def monotonearray(nums):\n",
    "    length = len(nums)\n",
    "    inc = True\n",
    "    dec = True\n",
    "    for i in range(0,length-1):\n",
    "        if nums[i] > nums[i+1]:\n",
    "            inc = False\n",
    "    for i in range(0,length-1):\n",
    "        if nums[i] < nums[i+1]:\n",
    "            dec = False\n",
    "    return inc or dec\n",
    "        "
   ]
  },
  {
   "cell_type": "code",
   "execution_count": 97,
   "id": "30298041",
   "metadata": {},
   "outputs": [
    {
     "data": {
      "text/plain": [
       "True"
      ]
     },
     "execution_count": 97,
     "metadata": {},
     "output_type": "execute_result"
    }
   ],
   "source": [
    "nums = [1,2,2,3]\n",
    "monotonearray(nums)"
   ]
  },
  {
   "cell_type": "code",
   "execution_count": 98,
   "id": "81888cd2",
   "metadata": {},
   "outputs": [
    {
     "data": {
      "text/plain": [
       "False"
      ]
     },
     "execution_count": 98,
     "metadata": {},
     "output_type": "execute_result"
    }
   ],
   "source": [
    "nums = [3,4,2,4]\n",
    "monotonearray(nums)"
   ]
  },
  {
   "cell_type": "markdown",
   "id": "b7fbc02c",
   "metadata": {},
   "source": [
    "### Question 8\n",
    "You are given an integer array nums and an integer k.\n",
    "\n",
    "In one operation, you can choose any index i where 0 <= i < nums.length and change nums[i] to nums[i] + x where x is an integer from the range [-k, k]. You can apply this operation at most once for each index i.\n",
    "\n",
    "The score of nums is the difference between the maximum and minimum elements in nums.\n",
    "\n",
    "Return the minimum score of nums after applying the mentioned operation at most once for each index in it.\n",
    "\n",
    "Example 1:\n",
    "Input: nums = [1], k = 0\n",
    "Output: 0\n",
    "\n",
    "Explanation: The score is max(nums) - min(nums) = 1 - 1 = 0."
   ]
  },
  {
   "cell_type": "code",
   "execution_count": 102,
   "id": "b8a51784",
   "metadata": {},
   "outputs": [],
   "source": [
    "def minscore(nums,k):\n",
    "    mx, mi = max(nums), min(nums)\n",
    "    return max(0, mx - mi - k * 2)"
   ]
  },
  {
   "cell_type": "code",
   "execution_count": 103,
   "id": "40ebf3a0",
   "metadata": {},
   "outputs": [
    {
     "data": {
      "text/plain": [
       "0"
      ]
     },
     "execution_count": 103,
     "metadata": {},
     "output_type": "execute_result"
    }
   ],
   "source": [
    "nums = [1]\n",
    "k = 0\n",
    "minscore(nums,k)"
   ]
  },
  {
   "cell_type": "code",
   "execution_count": 104,
   "id": "e2da263a",
   "metadata": {},
   "outputs": [
    {
     "data": {
      "text/plain": [
       "6"
      ]
     },
     "execution_count": 104,
     "metadata": {},
     "output_type": "execute_result"
    }
   ],
   "source": [
    "nums = [0,10]\n",
    "k = 2\n",
    "minscore(nums,k)"
   ]
  },
  {
   "cell_type": "code",
   "execution_count": null,
   "id": "b577f5c2",
   "metadata": {},
   "outputs": [],
   "source": []
  }
 ],
 "metadata": {
  "kernelspec": {
   "display_name": "Python 3 (ipykernel)",
   "language": "python",
   "name": "python3"
  },
  "language_info": {
   "codemirror_mode": {
    "name": "ipython",
    "version": 3
   },
   "file_extension": ".py",
   "mimetype": "text/x-python",
   "name": "python",
   "nbconvert_exporter": "python",
   "pygments_lexer": "ipython3",
   "version": "3.9.7"
  }
 },
 "nbformat": 4,
 "nbformat_minor": 5
}
