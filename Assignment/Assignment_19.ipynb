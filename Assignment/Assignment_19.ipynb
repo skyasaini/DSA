{
 "cells": [
  {
   "cell_type": "markdown",
   "id": "e3154c12",
   "metadata": {},
   "source": [
    "1.**Merge k Sorted Lists**\n",
    "\n",
    "You are given an array of `k` linked-lists `lists`, each linked-list is sorted in ascending order.\n",
    "\n",
    "*Merge all the linked-lists into one sorted linked-list and return it.*\n",
    "\n",
    "**Example 1:**\n",
    "Input: lists = [[1,4,5],[1,3,4],[2,6]]\n",
    "Output: [1,1,2,3,4,4,5,6]\n",
    "Explanation: The linked-lists are:\n",
    "[\n",
    "  1->4->5,\n",
    "  1->3->4,\n",
    "  2->6\n",
    "]\n",
    "merging them into one sorted list:\n",
    "1->1->2->3->4->4->5->6\n"
   ]
  },
  {
   "cell_type": "code",
   "execution_count": 5,
   "id": "261e04c9",
   "metadata": {},
   "outputs": [
    {
     "name": "stdout",
     "output_type": "stream",
     "text": [
      "1 1 2 3 4 4 5 6 "
     ]
    }
   ],
   "source": [
    "import heapq\n",
    "\n",
    "class ListNode:\n",
    "    def __init__(self, val=0, next=None):\n",
    "        self.val = val\n",
    "        self.next = next\n",
    "    \n",
    "    def __lt__(self, other):\n",
    "        return self.val < other.val\n",
    "    \n",
    "    def __le__(self, other):\n",
    "        return self.val <= other.val\n",
    "    \n",
    "    def __gt__(self, other):\n",
    "        return self.val > other.val\n",
    "    \n",
    "    def __ge__(self, other):\n",
    "        return self.val >= other.val\n",
    "\n",
    "def mergeKLists(lists):\n",
    "    heap = []\n",
    "    for head in lists:\n",
    "        if head:\n",
    "            heapq.heappush(heap, head)\n",
    "    \n",
    "    dummy = ListNode(0)\n",
    "    curr = dummy\n",
    "    \n",
    "    while heap:\n",
    "        node = heapq.heappop(heap)\n",
    "        curr.next = node\n",
    "        curr = curr.next\n",
    "        \n",
    "        if node.next:\n",
    "            heapq.heappush(heap, node.next)\n",
    "    \n",
    "    return dummy.next\n",
    "\n",
    "# Example usage\n",
    "# Create example linked lists\n",
    "list1 = ListNode(1)\n",
    "list1.next = ListNode(4)\n",
    "list1.next.next = ListNode(5)\n",
    "\n",
    "list2 = ListNode(1)\n",
    "list2.next = ListNode(3)\n",
    "list2.next.next = ListNode(4)\n",
    "\n",
    "list3 = ListNode(2)\n",
    "list3.next = ListNode(6)\n",
    "\n",
    "lists = [list1, list2, list3]\n",
    "\n",
    "# Merge the linked lists\n",
    "result = mergeKLists(lists)\n",
    "\n",
    "# Print the merged list\n",
    "while result:\n",
    "    print(result.val, end=' ')\n",
    "    result = result.next\n",
    "\n",
    "# Output: 1 1 2 3 4 4 5 6\n"
   ]
  },
  {
   "cell_type": "markdown",
   "id": "0d179df1",
   "metadata": {},
   "source": [
    "2.**Count of Smaller Numbers After Self**\n",
    "\n",
    "Given an integer array `nums`, return *an integer array* `counts` *where* `counts[i]` *is the number of smaller elements to the right of* `nums[i]`.\n",
    "\n",
    "**Example 1:**\n",
    "Input: nums = [5,2,6,1]\n",
    "Output: [2,1,1,0]\n",
    "Explanation:\n",
    "To the right of 5 there are2 smaller elements (2 and 1).\n",
    "To the right of 2 there is only1 smaller element (1).\n",
    "To the right of 6 there is1 smaller element (1).\n",
    "To the right of 1 there is0 smaller element.\n",
    "\n",
    "**Example 2:**\n",
    "Input: nums = [-1]\n",
    "Output: [0]\n",
    "\n",
    "</aside>"
   ]
  },
  {
   "cell_type": "code",
   "execution_count": null,
   "id": "6cbbe5fe",
   "metadata": {},
   "outputs": [],
   "source": [
    "def countSmaller(nums):\n",
    "    def merge_sort(arr, start, end):\n",
    "        if start >= end:\n",
    "            return\n",
    "        \n",
    "        mid = (start + end) // 2\n",
    "        merge_sort(arr, start, mid)\n",
    "        merge_sort(arr, mid + 1, end)\n",
    "        merge(arr, start, mid, end)\n",
    "    \n",
    "    def merge(arr, start, mid, end):\n",
    "        i = start\n",
    "        j = mid + 1\n",
    "        merged = []\n",
    "        count = 0\n",
    "        \n",
    "        while i <= mid and j <= end:\n",
    "            if arr[i] <= arr[j]:\n",
    "                merged.append(arr[i])\n",
    "                count += 1\n",
    "                i += 1\n",
    "            else:\n",
    "                merged.append(arr[j])\n",
    "                count += mid - i + 1\n",
    "                j += 1\n",
    "        \n",
    "        while i <= mid:\n",
    "            merged.append(arr[i])\n",
    "            i += 1\n",
    "        \n",
    "        while j <= end:\n",
    "            merged.append(arr[j])\n",
    "            j += 1\n",
    "        \n",
    "        for k in range(start, end + 1):\n",
    "            arr[k] = merged[k - start]\n",
    "    \n",
    "    n = len(nums)\n",
    "    count = [0] * n\n",
    "    merge_sort(nums, 0, n - 1)\n",
    "    return count\n",
    "\n",
    "# Example usage\n",
    "nums = [5, 2, 6, 1]\n",
    "result = countSmaller(nums)\n",
    "print(result)  # Output: [2, 1, 1, 0]\n"
   ]
  },
  {
   "cell_type": "markdown",
   "id": "d2264972",
   "metadata": {},
   "source": [
    "**3. Sort an Array**\n",
    "\n",
    "Given an array of integers `nums`, sort the array in ascending order and return it.\n",
    "\n",
    "You must solve the problem **without using any built-in** functions in `O(nlog(n))` time complexity and with the smallest space complexity possible.\n",
    "\n",
    "**Example 1:**\n",
    "Input: nums = [5,2,3,1]\n",
    "Output: [1,2,3,5]\n",
    "Explanation: After sorting the array, the positions of some numbers are not changed (for example, 2 and 3), while the positions of other numbers are changed (for example, 1 and 5).\n",
    "\n",
    "**Example 2:**\n",
    "Input: nums = [5,1,1,2,0,0]\n",
    "Output: [0,0,1,1,2,5]\n",
    "Explanation: Note that the values of nums are not necessairly unique.\n",
    "\n",
    "</aside>"
   ]
  },
  {
   "cell_type": "code",
   "execution_count": 11,
   "id": "8009ff2f",
   "metadata": {},
   "outputs": [
    {
     "name": "stdout",
     "output_type": "stream",
     "text": [
      "[1, 2, 3, 5]\n"
     ]
    }
   ],
   "source": [
    "def sortArray(nums):\n",
    "    def merge_sort(arr):\n",
    "        if len(arr) <= 1:\n",
    "            return arr\n",
    "\n",
    "        mid = len(arr) // 2\n",
    "        left = merge_sort(arr[:mid])\n",
    "        right = merge_sort(arr[mid:])\n",
    "        return merge(left, right)\n",
    "\n",
    "    def merge(left, right):\n",
    "        merged = []\n",
    "        i = 0\n",
    "        j = 0\n",
    "\n",
    "        while i < len(left) and j < len(right):\n",
    "            if left[i] <= right[j]:\n",
    "                merged.append(left[i])\n",
    "                i += 1\n",
    "            else:\n",
    "                merged.append(right[j])\n",
    "                j += 1\n",
    "\n",
    "        while i < len(left):\n",
    "            merged.append(left[i])\n",
    "            i += 1\n",
    "\n",
    "        while j < len(right):\n",
    "            merged.append(right[j])\n",
    "            j += 1\n",
    "\n",
    "        return merged\n",
    "\n",
    "    return merge_sort(nums)\n",
    "\n",
    "# Example usage\n",
    "nums = [5, 2, 3, 1]\n",
    "result = sortArray(nums)\n",
    "print(result)  # Output: [1, 2, 3, 5]\n"
   ]
  },
  {
   "cell_type": "markdown",
   "id": "52825dfd",
   "metadata": {},
   "source": [
    "**4. Move all zeroes to end of array**\n",
    "\n",
    "Given an array of random numbers, Push all the zero’s of a given array to the end of the array. For example, if the given arrays is {1, 9, 8, 4, 0, 0, 2, 7, 0, 6, 0}, it should be changed to {1, 9, 8, 4, 2, 7, 6, 0, 0, 0, 0}. The order of all other elements should be same. Expected time complexity is O(n) and extra space is O(1).\n",
    "\n",
    "**Example:**\n",
    "Input :  arr[] = {1, 2, 0, 4, 3, 0, 5, 0};\n",
    "Output : arr[] = {1, 2, 4, 3, 5, 0, 0, 0};\n",
    "\n",
    "Input : arr[]  = {1, 2, 0, 0, 0, 3, 6};\n",
    "Output : arr[] = {1, 2, 3, 6, 0, 0, 0};\n",
    "</aside>"
   ]
  },
  {
   "cell_type": "code",
   "execution_count": 12,
   "id": "f6e88220",
   "metadata": {},
   "outputs": [
    {
     "name": "stdout",
     "output_type": "stream",
     "text": [
      "[1, 2, 4, 3, 5, 0, 0, 0]\n"
     ]
    }
   ],
   "source": [
    "def moveZeroes(nums):\n",
    "    left = 0  # Pointer to track the position for non-zero elements\n",
    "\n",
    "    # Iterate through the array and move non-zero elements to the left\n",
    "    for right in range(len(nums)):\n",
    "        if nums[right] != 0:\n",
    "            nums[left] = nums[right]\n",
    "            left += 1\n",
    "\n",
    "    # Fill the remaining positions with zeroes\n",
    "    while left < len(nums):\n",
    "        nums[left] = 0\n",
    "        left += 1\n",
    "\n",
    "    return nums\n",
    "\n",
    "# Example usage\n",
    "nums = [1, 2, 0, 4, 3, 0, 5, 0]\n",
    "result = moveZeroes(nums)\n",
    "print(result)  # Output: [1, 2, 4, 3, 5, 0, 0, 0]\n"
   ]
  },
  {
   "cell_type": "markdown",
   "id": "f10b6e48",
   "metadata": {},
   "source": [
    "**5. Rearrange array in alternating positive & negative items with O(1) extra space**\n",
    "\n",
    "Given an **array of positive** and **negative numbers**, arrange them in an **alternate** fashion such that every positive number is followed by a negative and vice-versa maintaining the **order of appearance**. The number of positive and negative numbers need not be equal. If there are more positive numbers they appear at the end of the array. If there are more negative numbers, they too appear at the end of the array.\n",
    "\n",
    "**Examples:**\n",
    "Input:  arr[] = {1, 2, 3, -4, -1, 4}\n",
    "Output: arr[] = {-4, 1, -1, 2, 3, 4}\n",
    "\n",
    "Input:  arr[] = {-5, -2, 5, 2, 4, 7, 1, 8, 0, -8}\n",
    "Output: arr[] = {-5, 5, -2, 2, -8, 4, 7, 1, 8, 0}\n",
    "</aside>"
   ]
  },
  {
   "cell_type": "code",
   "execution_count": 18,
   "id": "0c3fd26a",
   "metadata": {},
   "outputs": [
    {
     "name": "stdout",
     "output_type": "stream",
     "text": [
      "[-4, 1, -1, 2, 3, 4]\n"
     ]
    }
   ],
   "source": [
    "def rearrangeArray(nums):\n",
    "    pos_nums = [num for num in nums if num >= 0]\n",
    "    neg_nums = [num for num in nums if num < 0]\n",
    "\n",
    "    result = []\n",
    "    i, j = 0, 0\n",
    "\n",
    "    while i < len(pos_nums) and j < len(neg_nums):\n",
    "        result.append(neg_nums[j])\n",
    "        result.append(pos_nums[i])\n",
    "        i += 1\n",
    "        j += 1\n",
    "\n",
    "    # Append any remaining positive or negative numbers\n",
    "    while i < len(pos_nums):\n",
    "        result.append(pos_nums[i])\n",
    "        i += 1\n",
    "\n",
    "    while j < len(neg_nums):\n",
    "        result.append(neg_nums[j])\n",
    "        j += 1\n",
    "\n",
    "    return result\n",
    "\n",
    "# Example usage\n",
    "nums = [1, 2, 3, -4, -1, 4]\n",
    "result = rearrangeArray(nums)\n",
    "print(result)  # Output: [-4, 1, -1, 2, 3, 4]\n"
   ]
  },
  {
   "cell_type": "markdown",
   "id": "5eab2ef6",
   "metadata": {},
   "source": [
    "**6. Merge two sorted arrays**\n",
    "\n",
    "Given two sorted arrays, the task is to merge them in a sorted manner.\n",
    "\n",
    "**Examples:**\n",
    "\n",
    "Input: arr1[] = { 1, 3, 4, 5}, arr2[] = {2, 4, 6, 8} \n",
    "Output: arr3[] = {1, 2, 3, 4, 4, 5, 6, 8}\n",
    "\n",
    "Input: arr1[] = { 5, 8, 9}, arr2[] = {4, 7, 8}\n",
    "Output: arr3[] = {4, 5, 7, 8, 8, 9}\n",
    " \n",
    "</aside>"
   ]
  },
  {
   "cell_type": "code",
   "execution_count": 19,
   "id": "1e68de16",
   "metadata": {},
   "outputs": [
    {
     "name": "stdout",
     "output_type": "stream",
     "text": [
      "[1, 2, 3, 4, 4, 5, 6, 8]\n"
     ]
    }
   ],
   "source": [
    "def mergeArrays(arr1, arr2):\n",
    "    merged = []\n",
    "    i, j = 0, 0\n",
    "\n",
    "    while i < len(arr1) and j < len(arr2):\n",
    "        if arr1[i] <= arr2[j]:\n",
    "            merged.append(arr1[i])\n",
    "            i += 1\n",
    "        else:\n",
    "            merged.append(arr2[j])\n",
    "            j += 1\n",
    "\n",
    "    # Add remaining elements of arr1, if any\n",
    "    while i < len(arr1):\n",
    "        merged.append(arr1[i])\n",
    "        i += 1\n",
    "\n",
    "    # Add remaining elements of arr2, if any\n",
    "    while j < len(arr2):\n",
    "        merged.append(arr2[j])\n",
    "        j += 1\n",
    "\n",
    "    return merged\n",
    "\n",
    "# Example usage\n",
    "arr1 = [1, 3, 4, 5]\n",
    "arr2 = [2, 4, 6, 8]\n",
    "result = mergeArrays(arr1, arr2)\n",
    "print(result)  # Output: [1, 2, 3, 4, 4, 5, 6, 8]\n"
   ]
  },
  {
   "cell_type": "markdown",
   "id": "194a468d",
   "metadata": {},
   "source": [
    "**7. Intersection of Two Arrays**\n",
    "\n",
    "Given two integer arrays `nums1` and `nums2`, return *an array of their intersection*. Each element in the result must be **unique** and you may return the result in **any order**.\n",
    "\n",
    "**Example 1:**\n",
    "Input: nums1 = [1,2,2,1], nums2 = [2,2]\n",
    "Output: [2]\n",
    "\n",
    "**Example 2:**\n",
    "Input: nums1 = [4,9,5], nums2 = [9,4,9,8,4]\n",
    "Output: [9,4]\n",
    "Explanation: [4,9] is also accepted.\n",
    "\n",
    "</aside>"
   ]
  },
  {
   "cell_type": "code",
   "execution_count": 20,
   "id": "1435a2cb",
   "metadata": {},
   "outputs": [
    {
     "name": "stdout",
     "output_type": "stream",
     "text": [
      "[2]\n"
     ]
    }
   ],
   "source": [
    "def intersection(nums1, nums2):\n",
    "    set1 = set(nums1)\n",
    "    intersection_set = set()\n",
    "\n",
    "    for num in nums2:\n",
    "        if num in set1:\n",
    "            intersection_set.add(num)\n",
    "\n",
    "    return list(intersection_set)\n",
    "\n",
    "# Example usage\n",
    "nums1 = [1, 2, 2, 1]\n",
    "nums2 = [2, 2]\n",
    "result = intersection(nums1, nums2)\n",
    "print(result)  # Output: [2]\n"
   ]
  },
  {
   "cell_type": "markdown",
   "id": "0108f373",
   "metadata": {},
   "source": [
    "**8. Intersection of Two Arrays II**\n",
    "\n",
    "Given two integer arrays `nums1` and `nums2`, return *an array of their intersection*. Each element in the result must appear as many times as it shows in both arrays and you may return the result in **any order**.\n",
    "\n",
    "**Example 1:**\n",
    "Input: nums1 = [1,2,2,1], nums2 = [2,2]\n",
    "Output: [2,2]\n",
    "\n",
    "**Example 2:**\n",
    "Input: nums1 = [4,9,5], nums2 = [9,4,9,8,4]\n",
    "Output: [4,9]\n",
    "Explanation: [9,4] is also accepted.\n",
    "\n",
    "</aside>"
   ]
  },
  {
   "cell_type": "code",
   "execution_count": 21,
   "id": "ec087329",
   "metadata": {},
   "outputs": [
    {
     "name": "stdout",
     "output_type": "stream",
     "text": [
      "[2, 2]\n"
     ]
    }
   ],
   "source": [
    "def intersect(nums1, nums2):\n",
    "    num_freq = {}\n",
    "    intersection = []\n",
    "\n",
    "    # Count the frequency of each number in nums1\n",
    "    for num in nums1:\n",
    "        if num in num_freq:\n",
    "            num_freq[num] += 1\n",
    "        else:\n",
    "            num_freq[num] = 1\n",
    "\n",
    "    # Check for intersection in nums2\n",
    "    for num in nums2:\n",
    "        if num in num_freq and num_freq[num] > 0:\n",
    "            intersection.append(num)\n",
    "            num_freq[num] -= 1\n",
    "\n",
    "    return intersection\n",
    "\n",
    "# Example usage\n",
    "nums1 = [1, 2, 2, 1]\n",
    "nums2 = [2, 2]\n",
    "result = intersect(nums1, nums2)\n",
    "print(result)  # Output: [2, 2]\n"
   ]
  },
  {
   "cell_type": "code",
   "execution_count": null,
   "id": "4c5744df",
   "metadata": {},
   "outputs": [],
   "source": []
  }
 ],
 "metadata": {
  "kernelspec": {
   "display_name": "Python 3 (ipykernel)",
   "language": "python",
   "name": "python3"
  },
  "language_info": {
   "codemirror_mode": {
    "name": "ipython",
    "version": 3
   },
   "file_extension": ".py",
   "mimetype": "text/x-python",
   "name": "python",
   "nbconvert_exporter": "python",
   "pygments_lexer": "ipython3",
   "version": "3.9.7"
  }
 },
 "nbformat": 4,
 "nbformat_minor": 5
}
