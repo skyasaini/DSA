{
 "cells": [
  {
   "cell_type": "markdown",
   "id": "db1cc756",
   "metadata": {},
   "source": [
    "### Question 1\n",
    "Given two strings s and t, *determine if they are isomorphic*.\n",
    "\n",
    "Two strings s and t are isomorphic if the characters in s can be replaced to get t.\n",
    "\n",
    "All occurrences of a character must be replaced with another character while preserving the order of characters. No two characters may map to the same character, but a character may map to itself.\n",
    "\n",
    "**Example 1:**\n",
    "\n",
    "**Input:** s = \"egg\", t = \"add\"\n",
    "\n",
    "**Output:** true\n",
    "\n",
    "</aside>"
   ]
  },
  {
   "cell_type": "code",
   "execution_count": 164,
   "id": "6492d5b2",
   "metadata": {},
   "outputs": [],
   "source": [
    "def isIsomorphic(s, t):\n",
    "    d1 = {}\n",
    "    d2 = {}\n",
    "    for a, b in zip(s, t):\n",
    "        if (a in d1 and d1[a] != b) or (b in d2 and d2[b] != a):\n",
    "            return False\n",
    "        d1[a] = b\n",
    "        d2[b] = a\n",
    "    return True"
   ]
  },
  {
   "cell_type": "code",
   "execution_count": 165,
   "id": "e40c7b65",
   "metadata": {},
   "outputs": [
    {
     "data": {
      "text/plain": [
       "True"
      ]
     },
     "execution_count": 165,
     "metadata": {},
     "output_type": "execute_result"
    }
   ],
   "source": [
    "s = \"egg\"\n",
    "t = \"add\"\n",
    "isIsomorphic(s, t)"
   ]
  },
  {
   "cell_type": "markdown",
   "id": "43e5a583",
   "metadata": {},
   "source": [
    "### Question 2\n",
    "Given a string num which represents an integer, return true *if* num *is a **strobogrammatic number***.\n",
    "\n",
    "A **strobogrammatic number** is a number that looks the same when rotated 180 degrees (looked at upside down).\n",
    "\n",
    "**Example 1:**\n",
    "\n",
    "**Input:** num = \"69\"\n",
    "\n",
    "**Output:**\n",
    "\n",
    "true\n",
    "\n",
    "</aside>"
   ]
  },
  {
   "cell_type": "code",
   "execution_count": 166,
   "id": "078f17df",
   "metadata": {},
   "outputs": [],
   "source": [
    "def isStrobogrammatic(num):\n",
    "    d = [0, 1, -1, -1, -1, -1, 9, -1, 8, 6]\n",
    "    i, j = 0, len(num) - 1\n",
    "    while i <= j:\n",
    "        a, b = int(num[i]), int(num[j])\n",
    "        if d[a] != b:\n",
    "            return False\n",
    "        i, j = i + 1, j - 1\n",
    "    return True"
   ]
  },
  {
   "cell_type": "code",
   "execution_count": 167,
   "id": "f196da4e",
   "metadata": {},
   "outputs": [
    {
     "data": {
      "text/plain": [
       "True"
      ]
     },
     "execution_count": 167,
     "metadata": {},
     "output_type": "execute_result"
    }
   ],
   "source": [
    "num = \"69\"\n",
    "isStrobogrammatic(num)"
   ]
  },
  {
   "cell_type": "markdown",
   "id": "9ee898d1",
   "metadata": {},
   "source": [
    "### Question 3\n",
    "Given two non-negative integers, num1 and num2 represented as string, return *the sum of* num1 *and* num2 *as a string*.\n",
    "\n",
    "You must solve the problem without using any built-in library for handling large integers (such as BigInteger). You must also not convert the inputs to integers directly.\n",
    "\n",
    "**Example 1:**\n",
    "\n",
    "**Input:** num1 = \"11\", num2 = \"123\"\n",
    "\n",
    "**Output:**\n",
    "\n",
    "\"134\""
   ]
  },
  {
   "cell_type": "code",
   "execution_count": 168,
   "id": "cbc1b341",
   "metadata": {},
   "outputs": [],
   "source": [
    "def addStrings(num1, num2):\n",
    "    ans = []\n",
    "    carry = 0\n",
    "    i = len(num1) - 1\n",
    "    j = len(num2) - 1\n",
    "\n",
    "    while i >= 0 or j >= 0 or carry:\n",
    "      if i >= 0:\n",
    "        carry += int(num1[i])\n",
    "      if j >= 0:\n",
    "        carry += int(num2[j])\n",
    "      ans.append(str(carry % 10))\n",
    "      carry //= 10\n",
    "      i -= 1\n",
    "      j -= 1\n",
    "\n",
    "    return ''.join(ans[::-1])"
   ]
  },
  {
   "cell_type": "code",
   "execution_count": 169,
   "id": "0b46798b",
   "metadata": {},
   "outputs": [
    {
     "data": {
      "text/plain": [
       "'134'"
      ]
     },
     "execution_count": 169,
     "metadata": {},
     "output_type": "execute_result"
    }
   ],
   "source": [
    "num1 = \"11\"\n",
    "num2 = \"123\"\n",
    "addStrings(num1, num2)"
   ]
  },
  {
   "cell_type": "markdown",
   "id": "6fdbc80a",
   "metadata": {},
   "source": [
    "### Question 4\n",
    "\n",
    "Given a string s, reverse the order of characters in each word within a sentence while still preserving whitespace and initial word order.\n",
    "\n",
    "**Example 1:**\n",
    "\n",
    "**Input:** s = \"Let's take LeetCode contest\"\n",
    "\n",
    "**Output:** \"s'teL ekat edoCteeL tsetnoc\"\n",
    "\n",
    "</aside>"
   ]
  },
  {
   "cell_type": "code",
   "execution_count": 173,
   "id": "ecb81c6b",
   "metadata": {},
   "outputs": [],
   "source": [
    "def reverword(s):\n",
    "    wordlist = s.split(' ')\n",
    "    reverselist = []\n",
    "    for i in wordlist:\n",
    "        reverselist.append(i[::-1])\n",
    "    return \" \".join(reverselist)"
   ]
  },
  {
   "cell_type": "code",
   "execution_count": null,
   "id": "3bfc550b",
   "metadata": {},
   "outputs": [],
   "source": [
    "def reverseWords(self, s: str) -> str:\n",
    "    return ' '.join([t[::-1] for t in s.split(' ')])"
   ]
  },
  {
   "cell_type": "code",
   "execution_count": 174,
   "id": "b59815e3",
   "metadata": {},
   "outputs": [
    {
     "data": {
      "text/plain": [
       "\"s'teL ekat edoCteeL tsetnoc\""
      ]
     },
     "execution_count": 174,
     "metadata": {},
     "output_type": "execute_result"
    }
   ],
   "source": [
    "s = \"Let's take LeetCode contest\"\n",
    "reverword(s)"
   ]
  },
  {
   "cell_type": "markdown",
   "id": "30418f6b",
   "metadata": {},
   "source": [
    "### Question 5\n",
    "\n",
    "Given a string s and an integer k, reverse the first k characters for every 2k characters counting from the start of the string.\n",
    "\n",
    "If there are fewer than k characters left, reverse all of them. If there are less than 2k but greater than or equal to k characters, then reverse the first k characters and leave the other as original.\n",
    "\n",
    "**Example 1:**\n",
    "\n",
    "**Input:** s = \"abcdefg\", k = 2\n",
    "\n",
    "**Output:**\n",
    "\n",
    "\"bacdfeg\"\n",
    "\n",
    "</aside>"
   ]
  },
  {
   "cell_type": "code",
   "execution_count": 198,
   "id": "faa62135",
   "metadata": {},
   "outputs": [],
   "source": [
    "def reverseStr(s, k):\n",
    "    t = list(s)\n",
    "    for i in range(0, len(t), k << 1):\n",
    "        t[i : i + k] = reversed(t[i : i + k])\n",
    "    return ''.join(t)"
   ]
  },
  {
   "cell_type": "code",
   "execution_count": 204,
   "id": "ceaefed9",
   "metadata": {},
   "outputs": [
    {
     "data": {
      "text/plain": [
       "'bacdfeg'"
      ]
     },
     "execution_count": 204,
     "metadata": {},
     "output_type": "execute_result"
    }
   ],
   "source": [
    "s = \"abcdefg\"\n",
    "k = 2\n",
    "reverseStr(s, k)"
   ]
  },
  {
   "cell_type": "markdown",
   "id": "1a98c65b",
   "metadata": {},
   "source": [
    "### Question 6\n",
    "\n",
    "Given two strings s and goal, return true *if and only if* s *can become* goal *after some number of **shifts** on* s.\n",
    "\n",
    "A **shift** on s consists of moving the leftmost character of s to the rightmost position.\n",
    "\n",
    "- For example, if s = \"abcde\", then it will be \"bcdea\" after one shift.\n",
    "\n",
    "**Example 1:**\n",
    "\n",
    "**Input:** s = \"abcde\", goal = \"cdeab\"\n",
    "\n",
    "**Output:**\n",
    "\n",
    "true\n",
    "\n",
    "</aside>"
   ]
  },
  {
   "cell_type": "code",
   "execution_count": 209,
   "id": "8c61fc0c",
   "metadata": {},
   "outputs": [],
   "source": [
    "def metchword(s,goal):\n",
    "    return len(s) == len(goal) and goal in s + s"
   ]
  },
  {
   "cell_type": "code",
   "execution_count": 210,
   "id": "913f9eff",
   "metadata": {},
   "outputs": [
    {
     "data": {
      "text/plain": [
       "True"
      ]
     },
     "execution_count": 210,
     "metadata": {},
     "output_type": "execute_result"
    }
   ],
   "source": [
    "s = \"abcde\" \n",
    "goal = \"cdeab\"\n",
    "metchword(s,goal)"
   ]
  },
  {
   "cell_type": "markdown",
   "id": "5a88fab6",
   "metadata": {},
   "source": [
    "### Question 7\n",
    "Given two strings s and t, return true *if they are equal when both are typed into empty text editors*. '#' means a backspace character.\n",
    "\n",
    "Note that after backspacing an empty text, the text will continue empty.\n",
    "\n",
    "**Example 1:**\n",
    "\n",
    "**Input:** s = \"ab#c\", t = \"ad#c\"\n",
    "\n",
    "**Output:** true\n",
    "\n",
    "**Explanation:**\n",
    "\n",
    "Both s and t become \"ac\"."
   ]
  },
  {
   "cell_type": "code",
   "execution_count": 211,
   "id": "a7b79ba2",
   "metadata": {},
   "outputs": [],
   "source": [
    "def backspaceCompare(s,t):\n",
    "    i, j, skip1, skip2 = len(s) - 1, len(t) - 1, 0, 0\n",
    "    while i >= 0 or j >= 0:\n",
    "        while i >= 0:\n",
    "            if s[i] == '#':\n",
    "                skip1 += 1\n",
    "                i -= 1\n",
    "            elif skip1:\n",
    "                skip1 -= 1\n",
    "                i -= 1\n",
    "            else:\n",
    "                break\n",
    "        while j >= 0:\n",
    "            if t[j] == '#':\n",
    "                skip2 += 1\n",
    "                j -= 1\n",
    "            elif skip2:\n",
    "                skip2 -= 1\n",
    "                j -= 1\n",
    "            else:\n",
    "                break\n",
    "        if i >= 0 and j >= 0:\n",
    "            if s[i] != t[j]:\n",
    "                return False\n",
    "        elif i >= 0 or j >= 0:\n",
    "            return False\n",
    "        i, j = i - 1, j - 1\n",
    "    return True"
   ]
  },
  {
   "cell_type": "code",
   "execution_count": 213,
   "id": "12538a8a",
   "metadata": {},
   "outputs": [
    {
     "data": {
      "text/plain": [
       "True"
      ]
     },
     "execution_count": 213,
     "metadata": {},
     "output_type": "execute_result"
    }
   ],
   "source": [
    "s = \"ab#c\"\n",
    "t = \"ad#c\"\n",
    "backspaceCompare(s,t)"
   ]
  },
  {
   "cell_type": "markdown",
   "id": "5683ba43",
   "metadata": {},
   "source": [
    "### Question 8\n",
    "\n",
    "You are given an array coordinates, coordinates[i] = [x, y], where [x, y] represents the coordinate of a point. Check if these points make a straight line in the XY plane.\n",
    "\n",
    "**Input:** coordinates = [[1,2],[2,3],[3,4],[4,5],[5,6],[6,7]]\n",
    "\n",
    "**Output:** true\n",
    "\n",
    "</aside>"
   ]
  },
  {
   "cell_type": "code",
   "execution_count": 218,
   "id": "dd1ce15f",
   "metadata": {},
   "outputs": [],
   "source": [
    "def checkpoints(nums):\n",
    "    x1, y1 = nums[0]\n",
    "    x2, y2 = nums[1]\n",
    "    for x, y in nums[2:]:\n",
    "        if (x - x1) * (y2 - y1) != (y - y1) * (x2 - x1):\n",
    "            return False\n",
    "    return True"
   ]
  },
  {
   "cell_type": "code",
   "execution_count": 220,
   "id": "1831f59c",
   "metadata": {},
   "outputs": [
    {
     "data": {
      "text/plain": [
       "True"
      ]
     },
     "execution_count": 220,
     "metadata": {},
     "output_type": "execute_result"
    }
   ],
   "source": [
    "coordinates = [[1,2],[2,3],[3,4],[4,5],[5,6],[6,7]]\n",
    "checkpoints(coordinates)"
   ]
  },
  {
   "cell_type": "code",
   "execution_count": null,
   "id": "8b85ddad",
   "metadata": {},
   "outputs": [],
   "source": []
  }
 ],
 "metadata": {
  "kernelspec": {
   "display_name": "Python 3 (ipykernel)",
   "language": "python",
   "name": "python3"
  },
  "language_info": {
   "codemirror_mode": {
    "name": "ipython",
    "version": 3
   },
   "file_extension": ".py",
   "mimetype": "text/x-python",
   "name": "python",
   "nbconvert_exporter": "python",
   "pygments_lexer": "ipython3",
   "version": "3.9.7"
  }
 },
 "nbformat": 4,
 "nbformat_minor": 5
}
