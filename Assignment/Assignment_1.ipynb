{
 "cells": [
  {
   "cell_type": "markdown",
   "id": "e38e210f",
   "metadata": {},
   "source": [
    "### Q1 Given an array of integers nums and an integer target, return indices of the two numbers such that they add up to target.\n",
    "\n",
    "### You may assume that each input would have exactly one solution, and you may not use the same element twice.\n",
    "\n",
    "### You can return the answer in any order.\n",
    "\n",
    "Example:\n",
    "\n",
    "Input: nums = [2,7,11,15], target = 9\n",
    "\n",
    "Output0 [0,1]\n",
    "\n",
    "**Explanation:** Because nums[0] + nums[1] == 9, we return [0, 1][\n",
    "\n",
    "</aside>"
   ]
  },
  {
   "cell_type": "code",
   "execution_count": 9,
   "id": "b20bd3cb",
   "metadata": {},
   "outputs": [],
   "source": [
    "def findindex(nums,target):\n",
    "    for i in range(len(nums)):\n",
    "        for j in range(1,len(nums)):\n",
    "            if nums[i]+nums[j]== target:\n",
    "                break\n",
    "        break\n",
    "    return [i,j]\n",
    "            "
   ]
  },
  {
   "cell_type": "code",
   "execution_count": 10,
   "id": "ce51a90d",
   "metadata": {},
   "outputs": [
    {
     "data": {
      "text/plain": [
       "[0, 1]"
      ]
     },
     "execution_count": 10,
     "metadata": {},
     "output_type": "execute_result"
    }
   ],
   "source": [
    "nums = [2,7,11,15] \n",
    "target = 9\n",
    "findindex(nums,target)"
   ]
  },
  {
   "cell_type": "markdown",
   "id": "2fec5dc4",
   "metadata": {},
   "source": [
    "### Q2. Given an integer array nums and an integer val, remove all occurrences of val in nums in-place. The order of the elements may be changed. Then return the number of elements in nums which are not equal to val.\n",
    "\n",
    "### Consider the number of elements in nums which are not equal to val be k, to get accepted, you need to do the following things:\n",
    "\n",
    "### - Change the array nums such that the first k elements of nums contain the elements which are not equal to val. The remaining elements of nums are not important as well as the size of nums.\n",
    "### - Return k.\n",
    "\n",
    "**Example :**\n",
    "Input: nums = [3,2,2,3], val = 3\n",
    "Output: 2, nums = [2,2,_*,_*]\n",
    "\n",
    "**Explanation:** Your function should return k = 2, with the first two elements of nums being 2. It does not matter what you leave beyond the returned k (hence they are underscores)[\n",
    "\n",
    "</aside>"
   ]
  },
  {
   "cell_type": "code",
   "execution_count": 83,
   "id": "a76a448d",
   "metadata": {},
   "outputs": [],
   "source": [
    "def replaceNums(numberslist,val):\n",
    "    count=0\n",
    "    for i in range(len(numberslist)):\n",
    "        if numberslist[i]!=val:\n",
    "            numberslist[count] = numberslist[i]\n",
    "            count +=1\n",
    "    return count,numberslist\n",
    "        "
   ]
  },
  {
   "cell_type": "code",
   "execution_count": 84,
   "id": "2fada612",
   "metadata": {},
   "outputs": [],
   "source": [
    "numbers = [3,2,2,3]\n",
    "val = 3 "
   ]
  },
  {
   "cell_type": "code",
   "execution_count": 85,
   "id": "eae89a6c",
   "metadata": {},
   "outputs": [
    {
     "data": {
      "text/plain": [
       "(2, [2, 2, 2, 3])"
      ]
     },
     "execution_count": 85,
     "metadata": {},
     "output_type": "execute_result"
    }
   ],
   "source": [
    "replaceNums(numbers,val)"
   ]
  },
  {
   "cell_type": "markdown",
   "id": "6e347305",
   "metadata": {},
   "source": [
    "### Q3. Given a sorted array of distinct integers and a target value, return the index if the target is found. If not, return the index where it would be if it were inserted in order.\n",
    "\n",
    "### You must write an algorithm with O(log n) runtime complexity.\n",
    "\n",
    "**Example 1:**\n",
    "Input: nums = [1,3,5,6], target = 5\n",
    "\n",
    "Output: 2\n",
    "\n",
    "</aside>"
   ]
  },
  {
   "cell_type": "code",
   "execution_count": 97,
   "id": "f6e34d9c",
   "metadata": {},
   "outputs": [],
   "source": [
    "def returnindex(nums,target):\n",
    "    startindex = 0\n",
    "    endindex = len(nums)-1\n",
    "    while(startindex<=endindex):\n",
    "        midindex = int((startindex+endindex)/2)\n",
    "        if nums[midindex] == target:\n",
    "            return midindex\n",
    "        elif target > nums[midindex]:\n",
    "            startindex = midindex + 1\n",
    "        else:\n",
    "            endindex = midindex -1\n",
    "    return endindex + 1"
   ]
  },
  {
   "cell_type": "code",
   "execution_count": 88,
   "id": "2a3ff32a",
   "metadata": {},
   "outputs": [],
   "source": [
    "nums = [1,3,5,6]\n",
    "target = 5"
   ]
  },
  {
   "cell_type": "code",
   "execution_count": 89,
   "id": "a585e533",
   "metadata": {},
   "outputs": [
    {
     "data": {
      "text/plain": [
       "2"
      ]
     },
     "execution_count": 89,
     "metadata": {},
     "output_type": "execute_result"
    }
   ],
   "source": [
    "returnindex(nums,target)"
   ]
  },
  {
   "cell_type": "code",
   "execution_count": 95,
   "id": "025d9ada",
   "metadata": {},
   "outputs": [],
   "source": [
    "nums = [1,3,5,6]\n",
    "target = 2"
   ]
  },
  {
   "cell_type": "code",
   "execution_count": 98,
   "id": "a61ee1d8",
   "metadata": {},
   "outputs": [
    {
     "data": {
      "text/plain": [
       "1"
      ]
     },
     "execution_count": 98,
     "metadata": {},
     "output_type": "execute_result"
    }
   ],
   "source": [
    "returnindex(nums,target)"
   ]
  },
  {
   "cell_type": "markdown",
   "id": "cc15f727",
   "metadata": {},
   "source": [
    "### Q4. You are given a large integer represented as an integer array digits, where each digits[i] is the ith digit of the integer. The digits are ordered from most significant to least significant in left-to-right order. The large integer does not contain any leading 0's.\n",
    "\n",
    "### Increment the large integer by one and return the resulting array of digits.\n",
    "**Example 1:**\n",
    "Input: digits = [1,2,3]\n",
    "Output: [1,2,4]\n",
    "\n",
    "**Explanation:** The array represents the integer 123.\n",
    "\n",
    "Incrementing by one gives 123 + 1 = 124.\n",
    "Thus, the result should be [1,2,4]."
   ]
  },
  {
   "cell_type": "code",
   "execution_count": 101,
   "id": "5102d266",
   "metadata": {},
   "outputs": [],
   "source": [
    "def getplusone(nums):\n",
    "    num_length = len(nums)\n",
    "    i = num_length - 1\n",
    "    while nums[i]==9 and i >=0:\n",
    "        i -= 1\n",
    "        if i == -1:\n",
    "            result = [0]*(num_length+1)\n",
    "            result[0] = 1\n",
    "            return result\n",
    "    result = [0]*num_length\n",
    "    result[i] = nums[i]+1\n",
    "    for j in range(i-1,-1,-1):\n",
    "        result[j] = nums[j]\n",
    "    return result\n"
   ]
  },
  {
   "cell_type": "code",
   "execution_count": 102,
   "id": "f6ad6c72",
   "metadata": {},
   "outputs": [
    {
     "data": {
      "text/plain": [
       "[1, 2, 4]"
      ]
     },
     "execution_count": 102,
     "metadata": {},
     "output_type": "execute_result"
    }
   ],
   "source": [
    "nums = [1,2,3]\n",
    "getplusone(nums)"
   ]
  },
  {
   "cell_type": "code",
   "execution_count": 103,
   "id": "0b27f5c5",
   "metadata": {},
   "outputs": [
    {
     "data": {
      "text/plain": [
       "[1, 0, 0, 0]"
      ]
     },
     "execution_count": 103,
     "metadata": {},
     "output_type": "execute_result"
    }
   ],
   "source": [
    "nums = [9,9,9]\n",
    "getplusone(nums)"
   ]
  },
  {
   "cell_type": "markdown",
   "id": "422632fa",
   "metadata": {},
   "source": [
    "### Q5.** You are given two integer arrays nums1 and nums2, sorted in non-decreasing order, and two integers m and n, representing the number of elements in nums1 and nums2 respectively. \n",
    "### Merge nums1 and nums2 into a single array sorted in non-decreasing order.\n",
    "\n",
    "### The final sorted array should not be returned by the function, but instead be stored inside the array nums1. To accommodate this, nums1 has a length of m + n, where the first m elements denote the elements that should be merged, and the last n elements are set to 0 and should be ignored. nums2 has a length of n.\n",
    "\n",
    "**Example 1:**\n",
    "Input: nums1 = [1,2,3,0,0,0], m = 3, nums2 = [2,5,6], n = 3\n",
    "\n",
    "Output: [1,2,2,3,5,6]\n",
    "\n",
    "**Explanation:** The arrays we are merging are [1,2,3] and [2,5,6].\n",
    "The result of the merge is [1,2,2,3,5,6] with the underlined elements coming from nums1.\n",
    "\n",
    "</aside>"
   ]
  },
  {
   "cell_type": "code",
   "execution_count": 134,
   "id": "d393e50a",
   "metadata": {},
   "outputs": [],
   "source": [
    "def mergedlist(l1,m,l2,n):\n",
    "    i = m-1\n",
    "    j = n-1\n",
    "    k = m+n-1\n",
    "    while (i>=0) & (j>=0):\n",
    "        if l1[i] > l2[j]:\n",
    "            l1[k] = l1[i]\n",
    "            i-=1\n",
    "        else:\n",
    "            l1[k] = l2[j]\n",
    "            j-=1\n",
    "        k-=1\n",
    "    while i>=0:\n",
    "        l1[k] = l1[i]\n",
    "        k-=1\n",
    "        i-=1\n",
    "    while j>=0:\n",
    "        l1[k] = l2[j]\n",
    "        k-=1\n",
    "        j-=1\n",
    "    return l1"
   ]
  },
  {
   "cell_type": "code",
   "execution_count": 136,
   "id": "54343f31",
   "metadata": {},
   "outputs": [
    {
     "data": {
      "text/plain": [
       "[1, 2, 2, 3, 5, 6]"
      ]
     },
     "execution_count": 136,
     "metadata": {},
     "output_type": "execute_result"
    }
   ],
   "source": [
    "nums1 = [1,2,3,0,0,0]\n",
    "m = 3\n",
    "nums2 = [2,5,6]\n",
    "n = 3\n",
    "mergedlist(nums1,m,nums2,n)"
   ]
  },
  {
   "cell_type": "code",
   "execution_count": 137,
   "id": "c6b1f8d1",
   "metadata": {},
   "outputs": [
    {
     "data": {
      "text/plain": [
       "[1, 2, 2, 3, 5, 6]"
      ]
     },
     "execution_count": 137,
     "metadata": {},
     "output_type": "execute_result"
    }
   ],
   "source": [
    "nums1"
   ]
  },
  {
   "cell_type": "code",
   "execution_count": 138,
   "id": "614df3a7",
   "metadata": {},
   "outputs": [
    {
     "data": {
      "text/plain": [
       "[4, 5, 5, 6, 7, 8]"
      ]
     },
     "execution_count": 138,
     "metadata": {},
     "output_type": "execute_result"
    }
   ],
   "source": [
    "nums1 = [4,5,6,0,0,0]\n",
    "m = 3\n",
    "nums2 = [5,7,8]\n",
    "n = 3\n",
    "mergedlist(nums1,m,nums2,n)"
   ]
  },
  {
   "cell_type": "code",
   "execution_count": 139,
   "id": "e829c45b",
   "metadata": {},
   "outputs": [
    {
     "data": {
      "text/plain": [
       "[4, 5, 5, 6, 7, 8]"
      ]
     },
     "execution_count": 139,
     "metadata": {},
     "output_type": "execute_result"
    }
   ],
   "source": [
    "nums1"
   ]
  },
  {
   "cell_type": "markdown",
   "id": "5b8a4ff5",
   "metadata": {},
   "source": [
    "### Given an integer array nums, return true if any value appears at least twice in the array, and return false if every element is distinct.\n",
    "\n",
    "**Example 1:**\n",
    "Input: nums = [1,2,3,1]\n",
    "\n",
    "Output: true\n",
    "\n",
    "</aside>"
   ]
  },
  {
   "cell_type": "code",
   "execution_count": 143,
   "id": "32e7e48b",
   "metadata": {},
   "outputs": [],
   "source": [
    "def distinctlist(nums):\n",
    "    nums.sort()\n",
    "    for i in range(1,len(nums)):\n",
    "        nums[i]=nums[i-1]\n",
    "        return True\n",
    "    return False\n",
    "    "
   ]
  },
  {
   "cell_type": "code",
   "execution_count": 144,
   "id": "1018a4a1",
   "metadata": {},
   "outputs": [
    {
     "data": {
      "text/plain": [
       "True"
      ]
     },
     "execution_count": 144,
     "metadata": {},
     "output_type": "execute_result"
    }
   ],
   "source": [
    "nums = [1,2,3,1]\n",
    "distinctlist(nums)"
   ]
  },
  {
   "cell_type": "markdown",
   "id": "3583a256",
   "metadata": {},
   "source": [
    "### Q7 Given an integer array nums, move all 0's to the end of it while maintaining the relative order of the nonzero elements.\n",
    "\n",
    "Note that you must do this in-place without making a copy of the array.\n",
    "\n",
    "**Example 1:**\n",
    "Input: nums = [0,1,0,3,12]\n",
    "\n",
    "Output: [1,3,12,0,0]\n",
    "\n",
    "</aside>"
   ]
  },
  {
   "cell_type": "code",
   "execution_count": 162,
   "id": "469bfa95",
   "metadata": {},
   "outputs": [],
   "source": [
    "def resuledlist(nums):\n",
    "    count = 0\n",
    "    for i in range(len(nums)):\n",
    "        if nums[i] != 0:\n",
    "            nums[count] = nums[i]\n",
    "            count+=1\n",
    "    while count < len(nums):\n",
    "        nums[count] =0\n",
    "        count+=1\n",
    "    return nums"
   ]
  },
  {
   "cell_type": "code",
   "execution_count": 163,
   "id": "be7cbad9",
   "metadata": {},
   "outputs": [
    {
     "data": {
      "text/plain": [
       "[1, 3, 12, 0, 0]"
      ]
     },
     "execution_count": 163,
     "metadata": {},
     "output_type": "execute_result"
    }
   ],
   "source": [
    "nums = [0,1,0,3,12]\n",
    "resuledlist(nums)"
   ]
  },
  {
   "cell_type": "markdown",
   "id": "7019f2a9",
   "metadata": {},
   "source": [
    "### Q8. You have a set of integers s, which originally contains all the numbers from 1 to n. Unfortunately, due to some error, one of the numbers in s got duplicated to another number in the set, which results in repetition of one number and loss of another number.\n",
    "\n",
    "### You are given an integer array nums representing the data status of this set after the error.\n",
    "\n",
    "### Find the number that occurs twice and the number that is missing and return them in the form of an array.\n",
    "\n",
    "**Example 1:**\n",
    "Input: nums = [1,2,2,4]\n",
    "\n",
    "Output: [2,3]\n",
    "\n",
    "</aside>"
   ]
  },
  {
   "cell_type": "code",
   "execution_count": 170,
   "id": "f9fbe44f",
   "metadata": {},
   "outputs": [],
   "source": [
    "def findtherepeatednum(nums):\n",
    "    nums.sort()\n",
    "    for i in range(1,len(nums)):\n",
    "        if nums[i]==nums[i-1]:\n",
    "            repeatednum =nums[i]\n",
    "            break\n",
    "    for i in range(1,len(nums)+1):\n",
    "        if i != nums[i-1]:\n",
    "            missingnum = i\n",
    "            break\n",
    "    return [repeatednum,missingnum]\n",
    "    \n",
    "        "
   ]
  },
  {
   "cell_type": "code",
   "execution_count": 171,
   "id": "4f5bdc90",
   "metadata": {},
   "outputs": [
    {
     "data": {
      "text/plain": [
       "[2, 3]"
      ]
     },
     "execution_count": 171,
     "metadata": {},
     "output_type": "execute_result"
    }
   ],
   "source": [
    "nums = [1,2,2,4]\n",
    "findtherepeatednum(nums)"
   ]
  },
  {
   "cell_type": "code",
   "execution_count": null,
   "id": "6861d08f",
   "metadata": {},
   "outputs": [],
   "source": []
  }
 ],
 "metadata": {
  "kernelspec": {
   "display_name": "Python 3 (ipykernel)",
   "language": "python",
   "name": "python3"
  },
  "language_info": {
   "codemirror_mode": {
    "name": "ipython",
    "version": 3
   },
   "file_extension": ".py",
   "mimetype": "text/x-python",
   "name": "python",
   "nbconvert_exporter": "python",
   "pygments_lexer": "ipython3",
   "version": "3.9.7"
  }
 },
 "nbformat": 4,
 "nbformat_minor": 5
}
