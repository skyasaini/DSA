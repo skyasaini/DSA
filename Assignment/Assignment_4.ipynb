{
 "cells": [
  {
   "cell_type": "markdown",
   "id": "a61b53e2",
   "metadata": {},
   "source": [
    "### Question 1\n",
    "Given three integer arrays arr1, arr2 and arr3 **sorted** in **strictly increasing** order, return a sorted array of **only** the integers that appeared in **all** three arrays.\n",
    "\n",
    "**Example 1:**\n",
    "\n",
    "Input: arr1 = [1,2,3,4,5], arr2 = [1,2,5,7,9], arr3 = [1,3,4,5,8]\n",
    "\n",
    "Output: [1,5]\n",
    "\n",
    "**Explanation:** Only 1 and 5 appeared in the three arrays.\n",
    "\n",
    "</aside>"
   ]
  },
  {
   "cell_type": "code",
   "execution_count": 1,
   "id": "fe49dc32",
   "metadata": {},
   "outputs": [],
   "source": [
    "def findrepeteditems(a1,a2,a3):\n",
    "    n1 = len(a2)-1\n",
    "    n2 = len(a3)-1\n",
    "    result = []\n",
    "    for i in a1:\n",
    "        for j in range(n1):\n",
    "            if i == a2[j]:\n",
    "                for k in range(n2):\n",
    "                    if i == a3[k]:\n",
    "                        result.append(a3[k])\n",
    "    return result\n",
    "                "
   ]
  },
  {
   "cell_type": "code",
   "execution_count": 2,
   "id": "18fbdc8b",
   "metadata": {},
   "outputs": [
    {
     "data": {
      "text/plain": [
       "[1, 5]"
      ]
     },
     "execution_count": 2,
     "metadata": {},
     "output_type": "execute_result"
    }
   ],
   "source": [
    "arr1 = [1,2,3,4,5]\n",
    "arr2 = [1,2,5,7,9]\n",
    "arr3 = [1,3,4,5,8]\n",
    "findrepeteditems(arr1,arr2,arr3)"
   ]
  },
  {
   "cell_type": "code",
   "execution_count": 4,
   "id": "8f278d3f",
   "metadata": {},
   "outputs": [],
   "source": [
    "def findcommen(a1,a2,a3):\n",
    "    n1=len(a1)\n",
    "    n2=len(a2)\n",
    "    n3=len(a3)\n",
    "    i=0\n",
    "    j=0\n",
    "    k=0\n",
    "    while (i < n1 and j < n2 and k < n3):\n",
    "        if (a1[i] == a2[j] and a2[j] == a3[k]):\n",
    "            print(a1[i])\n",
    "            i += 1\n",
    "            j += 1\n",
    "            k += 1\n",
    " \n",
    "        # x < y\n",
    "        elif a1[i] < a2[j]:\n",
    "            i += 1\n",
    " \n",
    "        # y < z\n",
    "        elif a2[j] < a3[k]:\n",
    "            j += 1\n",
    " \n",
    "        # x > y > z\n",
    "        else:\n",
    "            k += 1"
   ]
  },
  {
   "cell_type": "code",
   "execution_count": 6,
   "id": "0bab9c8b",
   "metadata": {},
   "outputs": [
    {
     "name": "stdout",
     "output_type": "stream",
     "text": [
      "1\n",
      "5\n"
     ]
    }
   ],
   "source": [
    "findcommen(arr1,arr2,arr3)"
   ]
  },
  {
   "cell_type": "markdown",
   "id": "df1a5f86",
   "metadata": {},
   "source": [
    "### Question 2**\n",
    "\n",
    "Given two **0-indexed** integer arrays nums1 and nums2, return *a list* answer *of size* 2 *where:*\n",
    "\n",
    "- answer[0] *is a list of all **distinct** integers in* nums1 *which are **not** present in* nums2*.*\n",
    "- answer[1] *is a list of all **distinct** integers in* nums2 *which are **not** present in* nums1.\n",
    "\n",
    "**Note** that the integers in the lists may be returned in **any** order.\n",
    "\n",
    "**Example 1:**\n",
    "\n",
    "**Input:** nums1 = [1,2,3], nums2 = [2,4,6]\n",
    "\n",
    "**Output:** [[1,3],[4,6]]\n",
    "\n",
    "**Explanation:**\n",
    "\n",
    "For nums1, nums1[1] = 2 is present at index 0 of nums2, whereas nums1[0] = 1 and nums1[2] = 3 are not present in nums2. Therefore, answer[0] = [1,3].\n",
    "\n",
    "For nums2, nums2[0] = 2 is present at index 1 of nums1, whereas nums2[1] = 4 and nums2[2] = 6 are not present in nums2. Therefore, answer[1] = [4,6].\n",
    "\n",
    "</aside>"
   ]
  },
  {
   "cell_type": "code",
   "execution_count": 8,
   "id": "1df6c1b9",
   "metadata": {},
   "outputs": [],
   "source": [
    "def finduncommen(a1,a2):\n",
    "    s1, s2 = set(a1), set(a2)\n",
    "    return [list(s1 - s2), list(s2 - s1)]"
   ]
  },
  {
   "cell_type": "code",
   "execution_count": 10,
   "id": "3ff7d6e1",
   "metadata": {},
   "outputs": [
    {
     "data": {
      "text/plain": [
       "[[1, 3], [4, 6]]"
      ]
     },
     "execution_count": 10,
     "metadata": {},
     "output_type": "execute_result"
    }
   ],
   "source": [
    "nums1,nums2 =  [1,2,3],[2,4,6]\n",
    "finduncommen(nums1,nums2)"
   ]
  },
  {
   "cell_type": "markdown",
   "id": "1a247045",
   "metadata": {},
   "source": [
    "### Question 3\n",
    "Given a 2D integer array matrix, return *the **transpose** of* matrix.\n",
    "\n",
    "The **transpose** of a matrix is the matrix flipped over its main diagonal, switching the matrix's row and column indices.\n",
    "\n",
    "**Example 1:**\n",
    "\n",
    "Input: matrix = [[1,2,3],[4,5,6],[7,8,9]]\n",
    "\n",
    "Output: [[1,4,7],[2,5,8],[3,6,9]]\n",
    "\n",
    "</aside>"
   ]
  },
  {
   "cell_type": "code",
   "execution_count": 23,
   "id": "78041bd2",
   "metadata": {},
   "outputs": [],
   "source": [
    "def transposemetrix(A):\n",
    "    N = len(A)\n",
    "    for i in range(N):\n",
    "        for j in range(i+1,N):\n",
    "            A[i][j],A[j][i] = A[j][i],A[i][j]\n",
    "            \n",
    "    return A"
   ]
  },
  {
   "cell_type": "code",
   "execution_count": 25,
   "id": "2b88556d",
   "metadata": {},
   "outputs": [
    {
     "data": {
      "text/plain": [
       "[[1, 4, 7], [2, 5, 8], [3, 6, 9]]"
      ]
     },
     "execution_count": 25,
     "metadata": {},
     "output_type": "execute_result"
    }
   ],
   "source": [
    "matrix = [[1,2,3],[4,5,6],[7,8,9]]\n",
    "transposemetrix(matrix)"
   ]
  },
  {
   "cell_type": "markdown",
   "id": "cd8abb9f",
   "metadata": {},
   "source": [
    "### Question 4\n",
    "Given an integer array nums of 2n integers, group these integers into n pairs (a1, b1), (a2, b2), ..., (an, bn) such that the sum of min(ai, bi) for all i is **maximized**. Return *the maximized sum*.\n",
    "\n",
    "**Example 1:**\n",
    "\n",
    "Input: nums = [1,4,3,2]\n",
    "\n",
    "Output: 4\n",
    "\n",
    "**Explanation:** All possible pairings (ignoring the ordering of elements) are:\n",
    "\n",
    "1. (1, 4), (2, 3) -> min(1, 4) + min(2, 3) = 1 + 2 = 3\n",
    "\n",
    "2. (1, 3), (2, 4) -> min(1, 3) + min(2, 4) = 1 + 2 = 3\n",
    "\n",
    "3. (1, 2), (3, 4) -> min(1, 2) + min(3, 4) = 1 + 3 = 4\n",
    "\n",
    "So the maximum possible sum is 4.\n",
    "\n",
    "</aside>"
   ]
  },
  {
   "cell_type": "code",
   "execution_count": 27,
   "id": "27e0fc5b",
   "metadata": {},
   "outputs": [],
   "source": [
    "def maxpairsum(nums):\n",
    "    nums.sort()\n",
    "    return sum(nums[::2])"
   ]
  },
  {
   "cell_type": "code",
   "execution_count": 28,
   "id": "ea8180d1",
   "metadata": {},
   "outputs": [
    {
     "data": {
      "text/plain": [
       "4"
      ]
     },
     "execution_count": 28,
     "metadata": {},
     "output_type": "execute_result"
    }
   ],
   "source": [
    "nums = [1,4,3,2]\n",
    "maxpairsum(nums)"
   ]
  },
  {
   "cell_type": "markdown",
   "id": "ad13d53b",
   "metadata": {},
   "source": [
    "### Question 5\n",
    "You have n coins and you want to build a staircase with these coins. The staircase consists of k rows where the ith row has exactly i coins. The last row of the staircase **may be** incomplete.\n",
    "\n",
    "Given the integer n, return *the number of **complete rows** of the staircase you will build*.\n",
    "\n",
    "</aside>"
   ]
  },
  {
   "cell_type": "code",
   "execution_count": 33,
   "id": "71893dcc",
   "metadata": {},
   "outputs": [],
   "source": [
    "def arrangecoins(n):\n",
    "    coins = n\n",
    "    for i in range(1,n+1):\n",
    "        coins = coins - i\n",
    "        if coins < 0:\n",
    "            return i-1\n",
    "    "
   ]
  },
  {
   "cell_type": "code",
   "execution_count": 34,
   "id": "43c30d80",
   "metadata": {},
   "outputs": [
    {
     "data": {
      "text/plain": [
       "2"
      ]
     },
     "execution_count": 34,
     "metadata": {},
     "output_type": "execute_result"
    }
   ],
   "source": [
    "arrangecoins(5)"
   ]
  },
  {
   "cell_type": "code",
   "execution_count": 40,
   "id": "f173c63c",
   "metadata": {},
   "outputs": [],
   "source": [
    "def completerow(n):\n",
    "        l=1\n",
    "        r=n\n",
    "        res=0\n",
    "        while(l<=r):\n",
    "            mid = int(l+(r-l)/2)\n",
    "            sumval = ((mid)*(mid+1))/2\n",
    "            if(sumval>n):\n",
    "                r=mid-1\n",
    "            else:\n",
    "                l=mid+1\n",
    "                res=max(res,mid)   \n",
    "        return int(res)"
   ]
  },
  {
   "cell_type": "code",
   "execution_count": 43,
   "id": "489854dd",
   "metadata": {},
   "outputs": [
    {
     "data": {
      "text/plain": [
       "2"
      ]
     },
     "execution_count": 43,
     "metadata": {},
     "output_type": "execute_result"
    }
   ],
   "source": [
    "completerow(5)"
   ]
  },
  {
   "cell_type": "markdown",
   "id": "bc5cf3f5",
   "metadata": {},
   "source": [
    "### Question 6\n",
    "Given an integer array nums sorted in **non-decreasing** order, return *an array of **the squares of each number** sorted in non-decreasing order*.\n",
    "\n",
    "**Example 1:**\n",
    "\n",
    "Input: nums = [-4,-1,0,3,10]\n",
    "\n",
    "Output: [0,1,9,16,100]\n",
    "\n",
    "**Explanation:** After squaring, the array becomes [16,1,0,9,100].\n",
    "After sorting, it becomes [0,1,9,16,100]\n",
    "\n",
    "</aside>"
   ]
  },
  {
   "cell_type": "code",
   "execution_count": 52,
   "id": "4effc236",
   "metadata": {},
   "outputs": [],
   "source": [
    "def squiredarray(arr):\n",
    "    return sorted([i**2 for i in arr])"
   ]
  },
  {
   "cell_type": "code",
   "execution_count": 53,
   "id": "97698c8a",
   "metadata": {},
   "outputs": [
    {
     "data": {
      "text/plain": [
       "[0, 1, 9, 16, 100]"
      ]
     },
     "execution_count": 53,
     "metadata": {},
     "output_type": "execute_result"
    }
   ],
   "source": [
    "nums = [-4,-1,0,3,10]\n",
    "squiredarray(nums)"
   ]
  },
  {
   "cell_type": "markdown",
   "id": "b1d37f3d",
   "metadata": {},
   "source": [
    "### Question 7\n",
    "You are given an m x n matrix M initialized with all 0's and an array of operations ops, where ops[i] = [ai, bi] means M[x][y] should be incremented by one for all 0 <= x < ai and 0 <= y < bi.\n",
    "\n",
    "Count and return *the number of maximum integers in the matrix after performing all the operations*\n",
    "\n",
    "**Input:** m = 3, n = 3, ops = [[2,2],[3,3]]\n",
    "\n",
    "**Output:** 4\n",
    "</aside>"
   ]
  },
  {
   "cell_type": "code",
   "execution_count": 55,
   "id": "73efb2e3",
   "metadata": {},
   "outputs": [],
   "source": [
    "def maxCount(m,n,ops):\n",
    "    length = len(ops)\n",
    "    if length == 0:\n",
    "        return m*n\n",
    "    result = [ops[0][0] , ops[0][1]]\n",
    "    for i in range(1,length):\n",
    "        result[0] = min(result[0] , ops[i][0])\n",
    "        result[1] = min(result[1] , ops[i][1])\n",
    "    return result[0]*result[1]        "
   ]
  },
  {
   "cell_type": "code",
   "execution_count": 56,
   "id": "ba312ddf",
   "metadata": {},
   "outputs": [
    {
     "data": {
      "text/plain": [
       "4"
      ]
     },
     "execution_count": 56,
     "metadata": {},
     "output_type": "execute_result"
    }
   ],
   "source": [
    "m = 3\n",
    "n = 3\n",
    "ops = [[2,2],[3,3]]\n",
    "maxCount(m,n,ops)"
   ]
  },
  {
   "cell_type": "markdown",
   "id": "936c6391",
   "metadata": {},
   "source": [
    "### Question 8\n",
    "\n",
    "Given the array nums consisting of 2n elements in the form [x1,x2,...,xn,y1,y2,...,yn].\n",
    "\n",
    "*Return the array in the form* [x1,y1,x2,y2,...,xn,yn].\n",
    "\n",
    "**Example 1:**\n",
    "\n",
    "**Input:** nums = [2,5,1,3,4,7], n = 3\n",
    "\n",
    "**Output:** [2,3,5,4,1,7]\n",
    "\n",
    "**Explanation:** Since x1=2, x2=5, x3=1, y1=3, y2=4, y3=7 then the answer is [2,3,5,4,1,7].\n",
    "\n",
    "</aside>"
   ]
  },
  {
   "cell_type": "code",
   "execution_count": 57,
   "id": "c3b57018",
   "metadata": {},
   "outputs": [],
   "source": [
    "def shuffledarry(nums,n):\n",
    "    ans = []\n",
    "    for i in range(n):\n",
    "        ans.append(nums[i])\n",
    "        ans.append(nums[i + n])\n",
    "    return ans"
   ]
  },
  {
   "cell_type": "code",
   "execution_count": 58,
   "id": "48e2709d",
   "metadata": {},
   "outputs": [
    {
     "data": {
      "text/plain": [
       "[2, 3, 5, 4, 1, 7]"
      ]
     },
     "execution_count": 58,
     "metadata": {},
     "output_type": "execute_result"
    }
   ],
   "source": [
    "nums = [2,5,1,3,4,7]\n",
    "n = 3\n",
    "shuffledarry(nums,n)"
   ]
  },
  {
   "cell_type": "code",
   "execution_count": null,
   "id": "c0e1df1c",
   "metadata": {},
   "outputs": [],
   "source": []
  }
 ],
 "metadata": {
  "kernelspec": {
   "display_name": "Python 3 (ipykernel)",
   "language": "python",
   "name": "python3"
  },
  "language_info": {
   "codemirror_mode": {
    "name": "ipython",
    "version": 3
   },
   "file_extension": ".py",
   "mimetype": "text/x-python",
   "name": "python",
   "nbconvert_exporter": "python",
   "pygments_lexer": "ipython3",
   "version": "3.9.7"
  }
 },
 "nbformat": 4,
 "nbformat_minor": 5
}
