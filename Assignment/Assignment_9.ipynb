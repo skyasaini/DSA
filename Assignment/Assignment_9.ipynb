{
 "cells": [
  {
   "cell_type": "markdown",
   "id": "537f26c8",
   "metadata": {},
   "source": [
    "### Question 1\n",
    "\n",
    "Given an integer `n`, return *`true` if it is a power of two. Otherwise, return `false`*.\n",
    "\n",
    "An integer `n` is a power of two, if there exists an integer `x` such that `n == 2x`.\n",
    "\n",
    "**Example 1:**\n",
    "Input: n = 1 \n",
    "\n",
    "Output: true\n",
    "\n",
    "**Example 2:**\n",
    "Input: n = 16 \n",
    "\n",
    "Output: true\n",
    "\n",
    "**Example 3:**\n",
    "Input: n = 3 \n",
    "\n",
    "Output: false\n",
    "\n",
    "</aside>"
   ]
  },
  {
   "cell_type": "code",
   "execution_count": 5,
   "id": "01496d0b",
   "metadata": {},
   "outputs": [],
   "source": [
    "def checkinteger(n):\n",
    "    if n==1:\n",
    "        return True\n",
    "    elif n <= 0:\n",
    "        return False\n",
    "    return checkinteger(n/2)"
   ]
  },
  {
   "cell_type": "code",
   "execution_count": 6,
   "id": "f14f5d94",
   "metadata": {},
   "outputs": [
    {
     "data": {
      "text/plain": [
       "False"
      ]
     },
     "execution_count": 6,
     "metadata": {},
     "output_type": "execute_result"
    }
   ],
   "source": [
    "checkinteger(3)"
   ]
  },
  {
   "cell_type": "code",
   "execution_count": 7,
   "id": "263d13a7",
   "metadata": {},
   "outputs": [
    {
     "data": {
      "text/plain": [
       "True"
      ]
     },
     "execution_count": 7,
     "metadata": {},
     "output_type": "execute_result"
    }
   ],
   "source": [
    "checkinteger(16)"
   ]
  },
  {
   "cell_type": "markdown",
   "id": "19cb5b2f",
   "metadata": {},
   "source": [
    "### Question 2\n",
    "\n",
    "Given a number n, find the sum of the first natural numbers.\n",
    "\n",
    "**Example 1:**\n",
    "\n",
    "Input: n = 3 \n",
    "\n",
    "Output: 6\n",
    "\n",
    "**Example 2:**\n",
    "\n",
    "Input  : 5 \n",
    "\n",
    "Output : 15\n",
    "\n",
    "</aside>"
   ]
  },
  {
   "cell_type": "code",
   "execution_count": 15,
   "id": "a4ca81b0",
   "metadata": {},
   "outputs": [],
   "source": [
    "def sumOfFirstN(n):\n",
    "    if n == 1:\n",
    "        return 1\n",
    "    else:\n",
    "        return n + sumOfFirstN(n - 1)"
   ]
  },
  {
   "cell_type": "code",
   "execution_count": 17,
   "id": "d31f2e37",
   "metadata": {},
   "outputs": [
    {
     "data": {
      "text/plain": [
       "6"
      ]
     },
     "execution_count": 17,
     "metadata": {},
     "output_type": "execute_result"
    }
   ],
   "source": [
    "sumOfFirstN(3)"
   ]
  },
  {
   "cell_type": "code",
   "execution_count": 18,
   "id": "47b66e2c",
   "metadata": {},
   "outputs": [
    {
     "data": {
      "text/plain": [
       "15"
      ]
     },
     "execution_count": 18,
     "metadata": {},
     "output_type": "execute_result"
    }
   ],
   "source": [
    "sumOfFirstN(5)"
   ]
  },
  {
   "cell_type": "markdown",
   "id": "e9c86ccd",
   "metadata": {},
   "source": [
    "### Question 3\n",
    "\n",
    "**Given a positive integer, N. Find the factorial of N.** \n",
    "\n",
    "**Example 1:**\n",
    "\n",
    "Input: N = 5 \n",
    "\n",
    "Output: 120\n",
    "\n",
    "**Example 2:**\n",
    "\n",
    "Input: N = 4\n",
    "\n",
    "Output: 24\n",
    "\n",
    "</aside>"
   ]
  },
  {
   "cell_type": "code",
   "execution_count": 21,
   "id": "2041ca6e",
   "metadata": {},
   "outputs": [],
   "source": [
    "def factofN(n):\n",
    "    if n==1 or n == 0:\n",
    "        return 1\n",
    "    else:\n",
    "        return n*factofN(n-1)"
   ]
  },
  {
   "cell_type": "code",
   "execution_count": 22,
   "id": "6aac3332",
   "metadata": {},
   "outputs": [
    {
     "data": {
      "text/plain": [
       "120"
      ]
     },
     "execution_count": 22,
     "metadata": {},
     "output_type": "execute_result"
    }
   ],
   "source": [
    "factofN(5)"
   ]
  },
  {
   "cell_type": "code",
   "execution_count": 23,
   "id": "e38f6d2e",
   "metadata": {},
   "outputs": [
    {
     "data": {
      "text/plain": [
       "24"
      ]
     },
     "execution_count": 23,
     "metadata": {},
     "output_type": "execute_result"
    }
   ],
   "source": [
    "factofN(4)"
   ]
  },
  {
   "cell_type": "markdown",
   "id": "9d48d588",
   "metadata": {},
   "source": [
    "### Question 4\n",
    "\n",
    "Given a number N and a power P, the task is to find the exponent of this number raised to the given power, i.e. N^P.\n",
    "\n",
    "**Example 1 :** \n",
    "\n",
    "Input: N = 5, P = 2\n",
    "\n",
    "Output: 25\n",
    "\n",
    "**Example 2 :**\n",
    "Input: N = 2, P = 5\n",
    "\n",
    "Output: 32\n",
    "\n",
    "</aside>"
   ]
  },
  {
   "cell_type": "code",
   "execution_count": 24,
   "id": "ce5c2b4f",
   "metadata": {},
   "outputs": [],
   "source": [
    "def exponent(n,p):\n",
    "    if p==0:\n",
    "        return 1\n",
    "    else:\n",
    "        return n*exponent(n,p-1)"
   ]
  },
  {
   "cell_type": "code",
   "execution_count": 25,
   "id": "f52e6cbd",
   "metadata": {},
   "outputs": [
    {
     "data": {
      "text/plain": [
       "25"
      ]
     },
     "execution_count": 25,
     "metadata": {},
     "output_type": "execute_result"
    }
   ],
   "source": [
    "exponent(5,2)"
   ]
  },
  {
   "cell_type": "code",
   "execution_count": 26,
   "id": "25634fe0",
   "metadata": {},
   "outputs": [
    {
     "data": {
      "text/plain": [
       "32"
      ]
     },
     "execution_count": 26,
     "metadata": {},
     "output_type": "execute_result"
    }
   ],
   "source": [
    "exponent(2,5)"
   ]
  },
  {
   "cell_type": "markdown",
   "id": "147aa716",
   "metadata": {},
   "source": [
    "### Question 5\n",
    "\n",
    "Given an array of integers **arr**, the task is to find maximum element of that array using recursion.\n",
    "\n",
    "**Example 1:**\n",
    "\n",
    "Input: arr = {1, 4, 3, -5, -4, 8, 6};\n",
    "Output: 8\n",
    "\n",
    "**Example 2:**\n",
    "\n",
    "Input: arr = {1, 4, 45, 6, 10, -8};\n",
    "Output: 45\n",
    "\n",
    "</aside>"
   ]
  },
  {
   "cell_type": "code",
   "execution_count": 27,
   "id": "c356dfc1",
   "metadata": {},
   "outputs": [],
   "source": [
    "def find_max(arr):\n",
    "    # Base case: If the array has only one element, it is the maximum\n",
    "    if len(arr) == 1:\n",
    "        return arr[0]\n",
    "    \n",
    "    # Divide the array into two halves\n",
    "    mid = len(arr) // 2\n",
    "    left = arr[:mid]\n",
    "    right = arr[mid:]\n",
    "    \n",
    "    # Recursively find the maximum of the left and right halves\n",
    "    max_left = find_max(left)\n",
    "    max_right = find_max(right)\n",
    "    \n",
    "    # Return the maximum of the two halves\n",
    "    return max(max_left, max_right)\n"
   ]
  },
  {
   "cell_type": "code",
   "execution_count": 28,
   "id": "b03d5230",
   "metadata": {},
   "outputs": [
    {
     "name": "stdout",
     "output_type": "stream",
     "text": [
      "8\n"
     ]
    }
   ],
   "source": [
    "arr = [1, 4, 3, -5, -4, 8, 6]\n",
    "print(find_max(arr))"
   ]
  },
  {
   "cell_type": "code",
   "execution_count": 29,
   "id": "72b60626",
   "metadata": {},
   "outputs": [
    {
     "name": "stdout",
     "output_type": "stream",
     "text": [
      "45\n"
     ]
    }
   ],
   "source": [
    "arr = [1, 4, 45, 6, 10, -8]\n",
    "print(find_max(arr))"
   ]
  },
  {
   "cell_type": "markdown",
   "id": "4f193a3f",
   "metadata": {},
   "source": [
    "### Question 6\n",
    "\n",
    "Given first term (a), common difference (d) and a integer N of the Arithmetic Progression series, the task is to find Nth term of the series.\n",
    "\n",
    "**Example 1:**\n",
    "\n",
    "Input : a = 2 d = 1 N = 5\n",
    "Output : 6\n",
    "The 5th term of the series is : 6\n",
    "\n",
    "**Example 2:**\n",
    "\n",
    "Input : a = 5 d = 2 N = 10\n",
    "Output : 23\n",
    "The 10th term of the series is : 23\n",
    "\n",
    "</aside>"
   ]
  },
  {
   "cell_type": "code",
   "execution_count": 32,
   "id": "42d8e547",
   "metadata": {},
   "outputs": [],
   "source": [
    "def nthvalue(a,d,n):\n",
    "    if n==1:\n",
    "        return a\n",
    "    else:\n",
    "        return nthvalue(a+d,d,n-1)"
   ]
  },
  {
   "cell_type": "code",
   "execution_count": 33,
   "id": "35a3124a",
   "metadata": {},
   "outputs": [
    {
     "data": {
      "text/plain": [
       "6"
      ]
     },
     "execution_count": 33,
     "metadata": {},
     "output_type": "execute_result"
    }
   ],
   "source": [
    "nthvalue(2,1,5)"
   ]
  },
  {
   "cell_type": "code",
   "execution_count": 34,
   "id": "5145988d",
   "metadata": {},
   "outputs": [
    {
     "data": {
      "text/plain": [
       "23"
      ]
     },
     "execution_count": 34,
     "metadata": {},
     "output_type": "execute_result"
    }
   ],
   "source": [
    "nthvalue(5,2,10)"
   ]
  },
  {
   "cell_type": "markdown",
   "id": "72c21262",
   "metadata": {},
   "source": [
    "### Question 7\n",
    "\n",
    "Given a string S, the task is to write a program to print all permutations of a given string.\n",
    "\n",
    "**Example 1:**\n",
    "\n",
    "***Input:***\n",
    "\n",
    "*S = “ABC”*\n",
    "\n",
    "***Output:***\n",
    "\n",
    "*“ABC”, “ACB”, “BAC”, “BCA”, “CBA”, “CAB”*\n",
    "\n",
    "**Example 2:**\n",
    "\n",
    "***Input:***\n",
    "\n",
    "*S = “XY”*\n",
    "\n",
    "***Output:***\n",
    "\n",
    "*“XY”, “YX”*\n",
    "\n",
    "</aside>"
   ]
  },
  {
   "cell_type": "code",
   "execution_count": 35,
   "id": "35e6e6f8",
   "metadata": {},
   "outputs": [
    {
     "name": "stdout",
     "output_type": "stream",
     "text": [
      "Permutations of ABC\n",
      "ABC\n",
      "ACB\n",
      "BAC\n",
      "BCA\n",
      "CBA\n",
      "CAB\n",
      "\n",
      "Permutations of XY\n",
      "XY\n",
      "YX\n"
     ]
    }
   ],
   "source": [
    "def permute(s):\n",
    "    # Convert the input string to a list of characters for easier manipulation\n",
    "    chars = list(s)\n",
    "    n = len(chars)\n",
    "    \n",
    "    # Helper function to generate permutations recursively\n",
    "    def backtrack(start):\n",
    "        # Base case: If we have reached the end of the string, print the current permutation\n",
    "        if start == n:\n",
    "            print(\"\".join(chars))\n",
    "            return\n",
    "        \n",
    "        # Generate permutations by swapping characters\n",
    "        for i in range(start, n):\n",
    "            # Swap characters at indices start and i\n",
    "            chars[start], chars[i] = chars[i], chars[start]\n",
    "            \n",
    "            # Recursively generate permutations for the remaining characters\n",
    "            backtrack(start + 1)\n",
    "            \n",
    "            # Undo the swap to restore the original order of characters\n",
    "            chars[start], chars[i] = chars[i], chars[start]\n",
    "    \n",
    "    # Start the recursion from the first character\n",
    "    backtrack(0)\n",
    "\n",
    "# Test the function\n",
    "s = \"ABC\"\n",
    "print(\"Permutations of\", s)\n",
    "permute(s)\n",
    "\n",
    "print()\n",
    "\n",
    "s = \"XY\"\n",
    "print(\"Permutations of\", s)\n",
    "permute(s)\n"
   ]
  },
  {
   "cell_type": "markdown",
   "id": "62517e4a",
   "metadata": {},
   "source": [
    "### Question 8\n",
    "\n",
    "Given an array, find a product of all array elements.\n",
    "\n",
    "**Example 1:**\n",
    "\n",
    "Input  : arr[] = {1, 2, 3, 4, 5}\n",
    "Output : 120\n",
    "\n",
    "**Example 2:**\n",
    "\n",
    "Input  : arr[] = {1, 6, 3}\n",
    "Output : 18\n",
    "\n",
    "</aside>"
   ]
  },
  {
   "cell_type": "code",
   "execution_count": 36,
   "id": "8e4a2ee3",
   "metadata": {},
   "outputs": [
    {
     "name": "stdout",
     "output_type": "stream",
     "text": [
      "Product: 120\n"
     ]
    }
   ],
   "source": [
    "def product(arr):\n",
    "    # Base case: If the array is empty, return 1\n",
    "    if len(arr) == 0:\n",
    "        return 1\n",
    "    \n",
    "    # Recursive case: Multiply the first element with the product of the rest\n",
    "    return arr[0] * product(arr[1:])\n",
    "\n",
    "\n",
    "arr = [1,2, 3, 4, 5]\n",
    "result = product(arr)\n",
    "print(\"Product:\", result)"
   ]
  },
  {
   "cell_type": "code",
   "execution_count": 37,
   "id": "60d8e066",
   "metadata": {},
   "outputs": [
    {
     "name": "stdout",
     "output_type": "stream",
     "text": [
      "Product: 18\n"
     ]
    }
   ],
   "source": [
    "arr = [1, 6, 3]\n",
    "result = product(arr)\n",
    "print(\"Product:\", result)"
   ]
  },
  {
   "cell_type": "code",
   "execution_count": null,
   "id": "7c19d409",
   "metadata": {},
   "outputs": [],
   "source": []
  }
 ],
 "metadata": {
  "kernelspec": {
   "display_name": "Python 3 (ipykernel)",
   "language": "python",
   "name": "python3"
  },
  "language_info": {
   "codemirror_mode": {
    "name": "ipython",
    "version": 3
   },
   "file_extension": ".py",
   "mimetype": "text/x-python",
   "name": "python",
   "nbconvert_exporter": "python",
   "pygments_lexer": "ipython3",
   "version": "3.9.7"
  }
 },
 "nbformat": 4,
 "nbformat_minor": 5
}
