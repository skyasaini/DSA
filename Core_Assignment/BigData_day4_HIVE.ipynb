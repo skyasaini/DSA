{
 "cells": [
  {
   "cell_type": "markdown",
   "id": "0b9680a2",
   "metadata": {},
   "source": [
    "**1.Write a Python program that uses the HiveQL language to create a table named \"Employees\" with columns for \"id,\" \"name,\" and \"salary.\"**"
   ]
  },
  {
   "cell_type": "code",
   "execution_count": 1,
   "id": "9e4bc230",
   "metadata": {},
   "outputs": [],
   "source": [
    "from pyhive import hive\n",
    "\n",
    "def create_employees_table():\n",
    "    # Connect to Hive\n",
    "    conn = hive.Connection(host='<hive-server-host>', port=10000, username='<username>')\n",
    "\n",
    "    # Create the Employees table\n",
    "    create_table_query = '''\n",
    "    CREATE TABLE Employees (\n",
    "        id INT,\n",
    "        name STRING,\n",
    "        salary DECIMAL(10, 2)\n",
    "    )\n",
    "    '''\n",
    "\n",
    "    # Execute the CREATE TABLE query\n",
    "    with conn.cursor() as cursor:\n",
    "        cursor.execute(create_table_query)\n",
    "        print(\"Employees table created successfully.\")\n",
    "\n",
    "    # Close the connection\n",
    "    conn.close()\n",
    "\n",
    "if __name__ == '__main__':\n",
    "    create_employees_table()\n"
   ]
  },
  {
   "cell_type": "markdown",
   "id": "5b6b7be4",
   "metadata": {},
   "source": [
    "**2.Create a Python program that retrieves records from a Hive table named \"Customers\" where the age is greater than 30.**"
   ]
  },
  {
   "cell_type": "code",
   "execution_count": 2,
   "id": "8d9e5cc8",
   "metadata": {},
   "outputs": [],
   "source": [
    "from pyhive import hive\n",
    "\n",
    "def retrieve_customers_by_age():\n",
    "    # Connect to Hive\n",
    "    conn = hive.Connection(host='<hive-server-host>', port=10000, username='<username>')\n",
    "\n",
    "    # Retrieve records from the Customers table where age > 30\n",
    "    query = \"SELECT * FROM Customers WHERE age > 30\"\n",
    "\n",
    "    # Execute the SELECT query\n",
    "    with conn.cursor() as cursor:\n",
    "        cursor.execute(query)\n",
    "        results = cursor.fetchall()\n",
    "\n",
    "        # Print the retrieved records\n",
    "        for row in results:\n",
    "            print(row)\n",
    "\n",
    "    # Close the connection\n",
    "    conn.close()\n",
    "\n",
    "if __name__ == '__main__':\n",
    "    retrieve_customers_by_age()\n"
   ]
  },
  {
   "cell_type": "markdown",
   "id": "335f986d",
   "metadata": {},
   "source": [
    "#### 3. Write a Python script that sorts records in descending order based on the \"timestamp\" column in a Hive table named \"Logs.\" "
   ]
  },
  {
   "cell_type": "code",
   "execution_count": null,
   "id": "9afaa2e3",
   "metadata": {},
   "outputs": [],
   "source": [
    "from pyhive import hive\n",
    "\n",
    "def sort_logs_by_timestamp():\n",
    "    # Connect to Hive\n",
    "    conn = hive.Connection(host='<hive-server-host>', port=10000, username='<username>')\n",
    "\n",
    "    # Sort records in descending order based on the timestamp column\n",
    "    query = \"SELECT * FROM Logs ORDER BY timestamp DESC\"\n",
    "\n",
    "    # Execute the SELECT query\n",
    "    with conn.cursor() as cursor:\n",
    "        cursor.execute(query)\n",
    "        results = cursor.fetchall()\n",
    "\n",
    "        # Print the sorted records\n",
    "        for row in results:\n",
    "            print(row)\n",
    "\n",
    "    # Close the connection\n",
    "    conn.close()\n",
    "\n",
    "if __name__ == '__main__':\n",
    "    sort_logs_by_timestamp()\n"
   ]
  },
  {
   "cell_type": "markdown",
   "id": "e660ea7b",
   "metadata": {},
   "source": [
    "#### 4. Write a Python program that connects to a Hive server using PyHive library and retrieves all records from a table named \"Products\".\n",
    "\n"
   ]
  },
  {
   "cell_type": "code",
   "execution_count": null,
   "id": "9ae09542",
   "metadata": {},
   "outputs": [],
   "source": [
    "from pyhive import hive\n",
    "\n",
    "def retrieve_products():\n",
    "    # Connect to Hive\n",
    "    conn = hive.Connection(host='<hive-server-host>', port=10000, username='<username>')\n",
    "\n",
    "    # Retrieve all records from the Products table\n",
    "    query = \"SELECT * FROM Products\"\n",
    "\n",
    "    # Execute the SELECT query\n",
    "    with conn.cursor() as cursor:\n",
    "        cursor.execute(query)\n",
    "        results = cursor.fetchall()\n",
    "\n",
    "        # Print the retrieved records\n",
    "        for row in results:\n",
    "            print(row)\n",
    "\n",
    "    # Close the connection\n",
    "    conn.close()\n",
    "\n",
    "if __name__ == '__main__':\n",
    "    retrieve_products()\n"
   ]
  },
  {
   "cell_type": "markdown",
   "id": "f0760622",
   "metadata": {},
   "source": [
    "#### 5.Write a Python script that calculates the average salary of employees from a Hive table named \"Employees\"."
   ]
  },
  {
   "cell_type": "code",
   "execution_count": null,
   "id": "5c3fda4b",
   "metadata": {},
   "outputs": [],
   "source": [
    "from pyhive import hive\n",
    "\n",
    "def calculate_average_salary():\n",
    "    # Connect to Hive\n",
    "    conn = hive.Connection(host='<hive-server-host>', port=10000, username='<username>')\n",
    "\n",
    "    # Calculate the average salary of employees\n",
    "    query = \"SELECT AVG(salary) FROM Employees\"\n",
    "\n",
    "    # Execute the SELECT query\n",
    "    with conn.cursor() as cursor:\n",
    "        cursor.execute(query)\n",
    "        result = cursor.fetchone()\n",
    "\n",
    "        # Print the average salary\n",
    "        average_salary = result[0]\n",
    "        print(f\"Average Salary: {average_salary}\")\n",
    "\n",
    "    # Close the connection\n",
    "    conn.close()\n",
    "\n",
    "if __name__ == '__main__':\n",
    "    calculate_average_salary()\n"
   ]
  },
  {
   "cell_type": "markdown",
   "id": "611bdc59",
   "metadata": {},
   "source": [
    "#### 6.Implement a Python program that uses Hive partitioning to create a partitioned table named \"Sales_Data\" based on the \"year\" and \"month\" columns."
   ]
  },
  {
   "cell_type": "code",
   "execution_count": 6,
   "id": "76341c07",
   "metadata": {},
   "outputs": [],
   "source": [
    "from pyhive import hive\n",
    "\n",
    "def create_partitioned_table():\n",
    "    # Connect to Hive\n",
    "    conn = hive.Connection(host='<hive-server-host>', port=10000, username='<username>')\n",
    "\n",
    "    # Create the partitioned Sales_Data table\n",
    "    create_table_query = '''\n",
    "    CREATE TABLE Sales_Data (\n",
    "        sale_date STRING,\n",
    "        product_name STRING,\n",
    "        sale_amount DECIMAL(10, 2)\n",
    "    )\n",
    "    PARTITIONED BY (year INT, month INT)\n",
    "    '''\n",
    "\n",
    "    # Execute the CREATE TABLE query\n",
    "    with conn.cursor() as cursor:\n",
    "        cursor.execute(create_table_query)\n",
    "        print(\"Partitioned table Sales_Data created successfully.\")\n",
    "\n",
    "    # Close the connection\n",
    "    conn.close()\n",
    "\n",
    "if __name__ == '__main__':\n",
    "    create_partitioned_table()\n"
   ]
  },
  {
   "cell_type": "markdown",
   "id": "8834a872",
   "metadata": {},
   "source": [
    "#### 7. Develop a Python script that adds a new column named \"email\" of type string to an existing Hive table named \"Employees.\"\n"
   ]
  },
  {
   "cell_type": "code",
   "execution_count": 7,
   "id": "00bc00c1",
   "metadata": {},
   "outputs": [],
   "source": [
    "from pyhive import hive\n",
    "\n",
    "def add_email_column():\n",
    "    # Connect to Hive\n",
    "    conn = hive.Connection(host='<hive-server-host>', port=10000, username='<username>')\n",
    "\n",
    "    # Alter the Employees table to add the email column\n",
    "    alter_table_query = '''\n",
    "    ALTER TABLE Employees\n",
    "    ADD COLUMNS (email STRING)\n",
    "    '''\n",
    "\n",
    "    # Execute the ALTER TABLE query\n",
    "    with conn.cursor() as cursor:\n",
    "        cursor.execute(alter_table_query)\n",
    "        print(\"Column email added to the Employees table successfully.\")\n",
    "\n",
    "    # Close the connection\n",
    "    conn.close()\n",
    "\n",
    "if __name__ == '__main__':\n",
    "    add_email_column()\n"
   ]
  },
  {
   "cell_type": "markdown",
   "id": "5b0872f7",
   "metadata": {},
   "source": [
    "#### 8. Create a Python program that performs an inner join between two Hive tables, \"Orders\" and \"Customers,\" based on a common column."
   ]
  },
  {
   "cell_type": "code",
   "execution_count": 8,
   "id": "90f4883a",
   "metadata": {},
   "outputs": [],
   "source": [
    "from pyhive import hive\n",
    "\n",
    "def perform_inner_join():\n",
    "    # Connect to Hive\n",
    "    conn = hive.Connection(host='<hive-server-host>', port=10000, username='<username>')\n",
    "\n",
    "    # Perform the inner join query\n",
    "    query = '''\n",
    "    SELECT *\n",
    "    FROM Orders\n",
    "    INNER JOIN Customers ON Orders.customer_id = Customers.customer_id\n",
    "    '''\n",
    "\n",
    "    # Execute the join query\n",
    "    with conn.cursor() as cursor:\n",
    "        cursor.execute(query)\n",
    "        results = cursor.fetchall()\n",
    "\n",
    "        # Print the joined records\n",
    "        for row in results:\n",
    "            print(row)\n",
    "\n",
    "    # Close the connection\n",
    "    conn.close()\n",
    "\n",
    "if __name__ == '__main__':\n",
    "    perform_inner_join()\n"
   ]
  },
  {
   "cell_type": "markdown",
   "id": "019e5793",
   "metadata": {},
   "source": [
    "#### 9. Implement a Python program that uses the Hive SerDe library to process JSON data stored in a Hive table named \"User_Activity_Logs.\""
   ]
  },
  {
   "cell_type": "code",
   "execution_count": 9,
   "id": "edeecc03",
   "metadata": {},
   "outputs": [],
   "source": [
    "from pyhive import hive\n",
    "\n",
    "def process_json_data():\n",
    "    # Connect to Hive\n",
    "    conn = hive.Connection(host='<hive-server-host>', port=10000, username='<username>')\n",
    "\n",
    "    # Create a temporary table with the JSON SerDe\n",
    "    create_temp_table_query = '''\n",
    "    CREATE TABLE Temp_User_Activity_Logs\n",
    "    ROW FORMAT SERDE 'org.apache.hadoop.hive.serde2.JsonSerDe'\n",
    "    STORED AS TEXTFILE\n",
    "    AS SELECT * FROM User_Activity_Logs\n",
    "    '''\n",
    "\n",
    "    # Execute the CREATE TABLE query for the temporary table\n",
    "    with conn.cursor() as cursor:\n",
    "        cursor.execute(create_temp_table_query)\n",
    "        print(\"Temporary table Temp_User_Activity_Logs created successfully.\")\n",
    "\n",
    "    # Process the JSON data from the temporary table\n",
    "    process_data_query = '''\n",
    "    SELECT * FROM Temp_User_Activity_Logs\n",
    "    '''\n",
    "\n",
    "    # Execute the SELECT query on the temporary table\n",
    "    with conn.cursor() as cursor:\n",
    "        cursor.execute(process_data_query)\n",
    "        results = cursor.fetchall()\n",
    "\n",
    "        # Print the processed JSON data\n",
    "        for row in results:\n",
    "            print(row)\n",
    "\n",
    "    # Drop the temporary table\n",
    "    drop_temp_table_query = '''\n",
    "    DROP TABLE IF EXISTS Temp_User_Activity_Logs\n",
    "    '''\n",
    "\n",
    "    # Execute the DROP TABLE query for the temporary table\n",
    "    with conn.cursor() as cursor:\n",
    "        cursor.execute(drop_temp_table_query)\n",
    "        print(\"Temporary table Temp_User_Activity_Logs dropped successfully.\")\n",
    "\n",
    "    # Close the connection\n",
    "    conn.close()\n",
    "\n",
    "if __name__ == '__main__':\n",
    "    process_json_data()\n"
   ]
  },
  {
   "cell_type": "code",
   "execution_count": null,
   "id": "d588a2a8",
   "metadata": {},
   "outputs": [],
   "source": []
  }
 ],
 "metadata": {
  "kernelspec": {
   "display_name": "Python 3 (ipykernel)",
   "language": "python",
   "name": "python3"
  },
  "language_info": {
   "codemirror_mode": {
    "name": "ipython",
    "version": 3
   },
   "file_extension": ".py",
   "mimetype": "text/x-python",
   "name": "python",
   "nbconvert_exporter": "python",
   "pygments_lexer": "ipython3",
   "version": "3.9.7"
  }
 },
 "nbformat": 4,
 "nbformat_minor": 5
}
