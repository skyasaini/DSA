{
 "cells": [
  {
   "cell_type": "markdown",
   "id": "0b9680a2",
   "metadata": {},
   "source": [
    "**1.Write a Python program to check if a given string is an anagram.**"
   ]
  },
  {
   "cell_type": "code",
   "execution_count": 2,
   "id": "9e4bc230",
   "metadata": {},
   "outputs": [],
   "source": [
    "def is_anagram(str1,str2):\n",
    "    # Remove any whitespace and convert to lowercase\n",
    "    str1 = str1.replace(\" \",\"\").lower()\n",
    "    str2 = str2.replace(\" \",\"\").lower()\n",
    "    \n",
    "    # sort the strings\n",
    "    sorted_str1 = sorted(str1)\n",
    "    sorted_str2 = sorted(str2)\n",
    "    \n",
    "    # compare the sorted strings\n",
    "    if sorted_str1 == sorted_str2:\n",
    "        return True\n",
    "    else:\n",
    "        return False"
   ]
  },
  {
   "cell_type": "code",
   "execution_count": 3,
   "id": "4eac119e",
   "metadata": {},
   "outputs": [
    {
     "name": "stdout",
     "output_type": "stream",
     "text": [
      "listen and silent are anagrams.\n"
     ]
    }
   ],
   "source": [
    "str1 = 'listen'\n",
    "str2 = 'silent'\n",
    "if is_anagram(str1,str2):\n",
    "    print(f\"{str1} and {str2} are anagrams.\")\n",
    "else:\n",
    "    print(f\"{str1} and {str2} are not anagrams.\")"
   ]
  },
  {
   "cell_type": "markdown",
   "id": "5b6b7be4",
   "metadata": {},
   "source": [
    "**2. write a Python program to find the maximum and minimum values in a\n",
    "dictionary.**"
   ]
  },
  {
   "cell_type": "code",
   "execution_count": 5,
   "id": "8d9e5cc8",
   "metadata": {},
   "outputs": [],
   "source": [
    "def find_min_max(dctr):\n",
    "    values = dctr.values()\n",
    "    min_val = min(values)\n",
    "    max_val = max(values)\n",
    "    \n",
    "    return min_val,max_val"
   ]
  },
  {
   "cell_type": "code",
   "execution_count": 7,
   "id": "6232845a",
   "metadata": {},
   "outputs": [
    {
     "name": "stdout",
     "output_type": "stream",
     "text": [
      "Maximum value: 20\n",
      "Minimum value: 5\n"
     ]
    }
   ],
   "source": [
    "dctr = {'a':5,\"b\":10,\"c\":15,\"d\":20}\n",
    "min_val,max_val=find_min_max(dctr)\n",
    "print(\"Maximum value:\", max_val)\n",
    "print(\"Minimum value:\", min_val)"
   ]
  },
  {
   "cell_type": "markdown",
   "id": "335f986d",
   "metadata": {},
   "source": [
    "**3.Write a Python program to find the average of a list of numbers.**"
   ]
  },
  {
   "cell_type": "code",
   "execution_count": 8,
   "id": "9afaa2e3",
   "metadata": {},
   "outputs": [
    {
     "name": "stdout",
     "output_type": "stream",
     "text": [
      "Average: 15.0\n"
     ]
    }
   ],
   "source": [
    "def calculate_average(numbers):\n",
    "    total = sum(numbers)\n",
    "    average = total / len(numbers)\n",
    "    return average\n",
    "\n",
    "# Test the function\n",
    "num_list = [5, 10, 15, 20, 25]\n",
    "average = calculate_average(num_list)\n",
    "print(\"Average:\", average)"
   ]
  },
  {
   "cell_type": "markdown",
   "id": "e660ea7b",
   "metadata": {},
   "source": [
    "#### 4. Write a Python program to remove all vowels from a string."
   ]
  },
  {
   "cell_type": "code",
   "execution_count": 9,
   "id": "9ae09542",
   "metadata": {},
   "outputs": [],
   "source": [
    "def remove_vowels(strg):\n",
    "    vowels = 'aeiouAEIOU'\n",
    "    result = ''\n",
    "    for char in strg:\n",
    "        if char not in vowels:\n",
    "            result += char\n",
    "        return result"
   ]
  },
  {
   "cell_type": "code",
   "execution_count": 10,
   "id": "4c13fbc1",
   "metadata": {},
   "outputs": [
    {
     "name": "stdout",
     "output_type": "stream",
     "text": [
      "Input String: Hello, World!\n",
      "Output String: H\n"
     ]
    }
   ],
   "source": [
    "input_string = \"Hello, World!\"\n",
    "output_string = remove_vowels(input_string)\n",
    "print(\"Input String:\", input_string)\n",
    "print(\"Output String:\", output_string)"
   ]
  },
  {
   "cell_type": "markdown",
   "id": "f0760622",
   "metadata": {},
   "source": [
    "#### 5. Write a Python function to calculate the factorial of a number using recursion."
   ]
  },
  {
   "cell_type": "code",
   "execution_count": 11,
   "id": "5c3fda4b",
   "metadata": {},
   "outputs": [],
   "source": [
    "def factorial(num):\n",
    "    if num == 0 or num == 1:\n",
    "        return 1\n",
    "    return num * factorial(num -1)"
   ]
  },
  {
   "cell_type": "code",
   "execution_count": 15,
   "id": "f2ff930a",
   "metadata": {},
   "outputs": [
    {
     "name": "stdout",
     "output_type": "stream",
     "text": [
      "The factorial of 8 is 40320\n"
     ]
    }
   ],
   "source": [
    "num = 8\n",
    "fact = factorial(num)\n",
    "print(f'The factorial of {num} is {fact}')"
   ]
  },
  {
   "cell_type": "markdown",
   "id": "611bdc59",
   "metadata": {},
   "source": [
    "#### 6. Write a Python program to merge two unsorted lists into a single sorted list using the merge sort algorithm."
   ]
  },
  {
   "cell_type": "code",
   "execution_count": 16,
   "id": "76341c07",
   "metadata": {},
   "outputs": [],
   "source": [
    "def merge_sort(arr):\n",
    "    if len(arr)<=1:\n",
    "        return arr\n",
    "    \n",
    "    # divide the list in two halves\n",
    "    mid = len(arr)//2\n",
    "    left_half = arr[:mid]\n",
    "    right_half = arr[mid:]\n",
    "    \n",
    "    # Recursively sort the two halves\n",
    "    left_half = merge_sort(left_half)\n",
    "    right_half = merge_sort(right_half)\n",
    "    \n",
    "    # merge the sorted halves\n",
    "    return merge(left_half,right_half)\n",
    "\n",
    "def merge(left,right):\n",
    "    merged = []\n",
    "    left_index = 0\n",
    "    right_index = 0\n",
    "    # compare elements from both list and add the smaller one to the merged list\n",
    "    while left_index < len(left) and right_index < len(right):\n",
    "        if left[left_index] < right[right_index]:\n",
    "            merged.append(left[left_index])\n",
    "            left_index +=1\n",
    "        else:\n",
    "            merged.append(right[right_index])\n",
    "            right_index +=1\n",
    "    # Add the remaining elements from the left list\n",
    "    while left_index < len(left):\n",
    "        merged.append(left[left_index])\n",
    "        left_index += 1\n",
    "\n",
    "    # Add the remaining elements from the right list\n",
    "    while right_index < len(right):\n",
    "        merged.append(right[right_index])\n",
    "        right_index += 1\n",
    "\n",
    "    return merged\n"
   ]
  },
  {
   "cell_type": "code",
   "execution_count": 17,
   "id": "c5036181",
   "metadata": {},
   "outputs": [
    {
     "name": "stdout",
     "output_type": "stream",
     "text": [
      "Merged and Sorted List: [0, 1, 2, 3, 4, 5, 6, 7, 8, 9]\n"
     ]
    }
   ],
   "source": [
    "# Test the program\n",
    "list1 = [4, 9, 2, 6, 1, 5]\n",
    "list2 = [8, 3, 7, 0]\n",
    "merged_list = merge_sort(list1 + list2)\n",
    "print(\"Merged and Sorted List:\", merged_list)"
   ]
  },
  {
   "cell_type": "markdown",
   "id": "8834a872",
   "metadata": {},
   "source": [
    "#### 7. Write a Python program to find the GCD (Greatest Common Divisor) of two numbers."
   ]
  },
  {
   "cell_type": "code",
   "execution_count": 18,
   "id": "00bc00c1",
   "metadata": {},
   "outputs": [
    {
     "name": "stdout",
     "output_type": "stream",
     "text": [
      "GCD of 24 and 36 is: 12\n"
     ]
    }
   ],
   "source": [
    "def gcd(a, b):\n",
    "    # Base cases\n",
    "    if a == 0:\n",
    "        return b\n",
    "    if b == 0:\n",
    "        return a\n",
    "\n",
    "    while a != b:\n",
    "        if a > b:\n",
    "            a = a - b\n",
    "        else:\n",
    "            b = b - a\n",
    "    return a\n",
    "\n",
    "# Test the program\n",
    "num1 = 24\n",
    "num2 = 36\n",
    "result = gcd(num1, num2)\n",
    "print(\"GCD of\", num1, \"and\", num2, \"is:\", result)\n"
   ]
  },
  {
   "cell_type": "code",
   "execution_count": 19,
   "id": "ddd8da8c",
   "metadata": {},
   "outputs": [
    {
     "name": "stdout",
     "output_type": "stream",
     "text": [
      "GCD of 3 and 5 is: 1\n"
     ]
    }
   ],
   "source": [
    "# Test the program\n",
    "num1 = 3\n",
    "num2 = 5\n",
    "result = gcd(num1, num2)\n",
    "print(\"GCD of\", num1, \"and\", num2, \"is:\", result)\n"
   ]
  },
  {
   "cell_type": "markdown",
   "id": "5b0872f7",
   "metadata": {},
   "source": [
    "#### 8. Write a Python program to find the second-largest element in a list."
   ]
  },
  {
   "cell_type": "code",
   "execution_count": 20,
   "id": "90f4883a",
   "metadata": {},
   "outputs": [
    {
     "name": "stdout",
     "output_type": "stream",
     "text": [
      "Second largest element: 8\n"
     ]
    }
   ],
   "source": [
    "def find_second_largest(nums):\n",
    "    if len(nums) < 2:\n",
    "        return None\n",
    "    \n",
    "    largest = float('-inf')\n",
    "    second_largest = float('-inf')\n",
    "    \n",
    "    for num in nums:\n",
    "        if num > largest:\n",
    "            second_largest = largest\n",
    "            largest = num\n",
    "        elif num > second_largest and num != largest:\n",
    "            second_largest = num\n",
    "    \n",
    "    if second_largest == float('-inf'):\n",
    "        return None\n",
    "    \n",
    "    return second_largest\n",
    "\n",
    "# Test the program\n",
    "numbers = [5, 2, 8, 10, 1, 6]\n",
    "result = find_second_largest(numbers)\n",
    "print(\"Second largest element:\", result)\n"
   ]
  },
  {
   "cell_type": "markdown",
   "id": "019e5793",
   "metadata": {},
   "source": [
    "#### 9. Write a Python program to find the longest common subsequence between two strings using dynamic programming."
   ]
  },
  {
   "cell_type": "code",
   "execution_count": 21,
   "id": "edeecc03",
   "metadata": {},
   "outputs": [
    {
     "name": "stdout",
     "output_type": "stream",
     "text": [
      "Longest Common Subsequence: ADH\n"
     ]
    }
   ],
   "source": [
    "def longest_common_subsequence(str1, str2):\n",
    "    m = len(str1)\n",
    "    n = len(str2)\n",
    "    \n",
    "    # Create a 2D matrix to store the lengths of common subsequences\n",
    "    dp = [[0] * (n + 1) for _ in range(m + 1)]\n",
    "    \n",
    "    # Fill the matrix with the lengths of common subsequences\n",
    "    for i in range(1, m + 1):\n",
    "        for j in range(1, n + 1):\n",
    "            if str1[i - 1] == str2[j - 1]:\n",
    "                dp[i][j] = dp[i - 1][j - 1] + 1\n",
    "            else:\n",
    "                dp[i][j] = max(dp[i - 1][j], dp[i][j - 1])\n",
    "    \n",
    "    # Trace back the matrix to find the longest common subsequence\n",
    "    lcs = \"\"\n",
    "    i, j = m, n\n",
    "    while i > 0 and j > 0:\n",
    "        if str1[i - 1] == str2[j - 1]:\n",
    "            lcs = str1[i - 1] + lcs\n",
    "            i -= 1\n",
    "            j -= 1\n",
    "        elif dp[i - 1][j] > dp[i][j - 1]:\n",
    "            i -= 1\n",
    "        else:\n",
    "            j -= 1\n",
    "    \n",
    "    return lcs\n",
    "\n",
    "# Test the program\n",
    "str1 = \"ABCDGH\"\n",
    "str2 = \"AEDFHR\"\n",
    "result = longest_common_subsequence(str1, str2)\n",
    "print(\"Longest Common Subsequence:\", result)\n"
   ]
  },
  {
   "cell_type": "code",
   "execution_count": null,
   "id": "b0310e69",
   "metadata": {},
   "outputs": [],
   "source": []
  }
 ],
 "metadata": {
  "kernelspec": {
   "display_name": "Python 3 (ipykernel)",
   "language": "python",
   "name": "python3"
  },
  "language_info": {
   "codemirror_mode": {
    "name": "ipython",
    "version": 3
   },
   "file_extension": ".py",
   "mimetype": "text/x-python",
   "name": "python",
   "nbconvert_exporter": "python",
   "pygments_lexer": "ipython3",
   "version": "3.9.7"
  }
 },
 "nbformat": 4,
 "nbformat_minor": 5
}
