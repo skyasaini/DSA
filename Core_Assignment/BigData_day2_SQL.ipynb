{
 "cells": [
  {
   "cell_type": "markdown",
   "id": "0b9680a2",
   "metadata": {},
   "source": [
    "**1. Write an SQL query to retrieve the names and email addresses of all employees from a table named \"Employees\".**"
   ]
  },
  {
   "cell_type": "code",
   "execution_count": 1,
   "id": "9e4bc230",
   "metadata": {},
   "outputs": [],
   "source": [
    "Query : \"select Name,EmailAdderess from Employees\""
   ]
  },
  {
   "cell_type": "markdown",
   "id": "5b6b7be4",
   "metadata": {},
   "source": [
    "**2. Write an SQL query to filter records from a table named \"Customers\" where the \"City\" column is 'New York'.**"
   ]
  },
  {
   "cell_type": "code",
   "execution_count": 2,
   "id": "8d9e5cc8",
   "metadata": {},
   "outputs": [],
   "source": [
    "Query : \" select * from Customers where city = 'New York'\""
   ]
  },
  {
   "cell_type": "markdown",
   "id": "335f986d",
   "metadata": {},
   "source": [
    "**3.Write an SQL query to sort records in descending order based on the \"DateOfBirth\" column in a table named \"Users\".**"
   ]
  },
  {
   "cell_type": "code",
   "execution_count": 3,
   "id": "9afaa2e3",
   "metadata": {},
   "outputs": [],
   "source": [
    "Query : \" select * from Users order by DateofBirth desc\""
   ]
  },
  {
   "cell_type": "markdown",
   "id": "e660ea7b",
   "metadata": {},
   "source": [
    "#### 4. Write an SQL query to sort records in ascending order based on the \"RegistrationDate\" column in a table named \"Users\"."
   ]
  },
  {
   "cell_type": "code",
   "execution_count": 4,
   "id": "9ae09542",
   "metadata": {},
   "outputs": [],
   "source": [
    "Query : \"select * from Users order by RegistrationDate asc\""
   ]
  },
  {
   "cell_type": "markdown",
   "id": "f0760622",
   "metadata": {},
   "source": [
    "#### 5.  Write an SQL query to find the employee with the highest salary from a table named \"Employees\" and display their name, position, and salary."
   ]
  },
  {
   "cell_type": "code",
   "execution_count": 5,
   "id": "5c3fda4b",
   "metadata": {},
   "outputs": [],
   "source": [
    "Query : \"select name,position,salary from Employees where salary = (select max(salary) from Employees)\""
   ]
  },
  {
   "cell_type": "markdown",
   "id": "611bdc59",
   "metadata": {},
   "source": [
    "#### 6. Write an SQL query to retrieve records from a table named \"Customers\" where the \"Phone\" column matches the pattern '+1-XXX-XXX-XXXX'."
   ]
  },
  {
   "cell_type": "code",
   "execution_count": 6,
   "id": "76341c07",
   "metadata": {},
   "outputs": [],
   "source": [
    "Query : \"select * from Customers where Phone like '+1-___-___-____' \""
   ]
  },
  {
   "cell_type": "markdown",
   "id": "8834a872",
   "metadata": {},
   "source": [
    "#### 7. Write an SQL query to retrieve the top 5 customers with the highest total purchase amount from a table named \"Orders\" and display their names and total purchase amounts."
   ]
  },
  {
   "cell_type": "code",
   "execution_count": 7,
   "id": "00bc00c1",
   "metadata": {},
   "outputs": [],
   "source": [
    "Query : \"\"\" SELECT c.name, SUM(o.purchase_amount) AS total_purchase_amount FROM Orders o\n",
    "            JOIN Customers c ON o.customer_id = c.customer_id\n",
    "            GROUP BY c.name\n",
    "            ORDER BY total_purchase_amount DESC\n",
    "            LIMIT 5 \"\"\"\n"
   ]
  },
  {
   "cell_type": "markdown",
   "id": "5b0872f7",
   "metadata": {},
   "source": [
    "#### 8. Write an SQL query to calculate the percentage of sales for each product category in a table named \"Sales\" and display the category name, total sales amount, and the percentage of total sales."
   ]
  },
  {
   "cell_type": "code",
   "execution_count": 8,
   "id": "90f4883a",
   "metadata": {},
   "outputs": [],
   "source": [
    "Query : \"\"\"SELECT category_name, SUM(sales_amount) AS total_sales_amount, \n",
    "       (SUM(sales_amount) / (SELECT SUM(sales_amount) FROM Sales)) * 100 AS percentage_of_sales\n",
    "        FROM Sales GROUP BY category_name; \"\"\"\n"
   ]
  },
  {
   "cell_type": "markdown",
   "id": "019e5793",
   "metadata": {},
   "source": [
    "#### 9.Write an SQL query to find the customers who have made the highest total purchases across all years from a table named \"Orders\" and display their names, email addresses, and the total purchase amount."
   ]
  },
  {
   "cell_type": "code",
   "execution_count": 9,
   "id": "edeecc03",
   "metadata": {},
   "outputs": [],
   "source": [
    "Query : \"\"\"SELECT c.name, c.email, SUM(o.purchase_amount) AS total_purchase_amount\n",
    "            FROM Orders o\n",
    "            JOIN Customers c ON o.customer_id = c.customer_id\n",
    "            GROUP BY c.name, c.email\n",
    "            HAVING total_purchase_amount = (\n",
    "            SELECT MAX(total_purchase_amount)  FROM (\n",
    "              SELECT SUM(purchase_amount) AS total_purchase_amount\n",
    "              FROM Orders\n",
    "              GROUP BY customer_id ) AS subquery ); \"\"\""
   ]
  },
  {
   "cell_type": "code",
   "execution_count": null,
   "id": "b0310e69",
   "metadata": {},
   "outputs": [],
   "source": []
  }
 ],
 "metadata": {
  "kernelspec": {
   "display_name": "Python 3 (ipykernel)",
   "language": "python",
   "name": "python3"
  },
  "language_info": {
   "codemirror_mode": {
    "name": "ipython",
    "version": 3
   },
   "file_extension": ".py",
   "mimetype": "text/x-python",
   "name": "python",
   "nbconvert_exporter": "python",
   "pygments_lexer": "ipython3",
   "version": "3.9.7"
  }
 },
 "nbformat": 4,
 "nbformat_minor": 5
}
